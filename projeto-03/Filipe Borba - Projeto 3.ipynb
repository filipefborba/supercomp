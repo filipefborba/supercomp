{
 "cells": [
  {
   "cell_type": "markdown",
   "metadata": {},
   "source": [
    "# Projeto 3: GPU\n",
    "### Filipe F. Borba  \n",
    "### Insper\n",
    "### Super Computação, Prof. Igor Montagner\n"
   ]
  },
  {
   "cell_type": "markdown",
   "metadata": {},
   "source": [
    "## Introdução\n",
    "\n",
    "O problema explorado nesse projeto é o algoritmo do Caixeiro Viajante. Este problema encontra-se na área de Otimização discreta, que estuda problemas de otimização baseados em uma sequência de escolhas e que a solução ótima só pode ser encontrada se enumerarmos todas as escolhas possíveis. Em outras palavras, só conseguimos achar a solução ótima se tivermos todas as soluções possíveis. Assim, não existem algoritmos mais eficientes de resolução, pois todos tem complexidade O(2^n) ou pior.\n",
    "\n",
    "Ao realizar esse teste das sequências de escolhas em paralelo, podemos diminuir consideravelmente o consumo de tempo do programa, o que é bastante interessante para computacão paralela. Contudo, conseguimos potencializar ainda mais essa solução ao utilizar uma GPU que supera a CPU nesses casos, pois possui centenas de threads disponíveis para realizar os cálculos.\n",
    "\n",
    "O problema do Caixeiro Viajante é o seguinte:\n",
    "\n",
    "<img src=\"https://camo.githubusercontent.com/a4d91635c96d345fc31068a4420834d23654f82b/68747470733a2f2f75706c6f61642e77696b696d656469612e6f72672f77696b6970656469612f636f6d6d6f6e732f7468756d622f312f31312f474c504b5f736f6c7574696f6e5f6f665f615f74726176656c6c696e675f73616c65736d616e5f70726f626c656d2e7376672f35313270782d474c504b5f736f6c7574696f6e5f6f665f615f74726176656c6c696e675f73616c65736d616e5f70726f626c656d2e7376672e706e67\" alt=\"TSP\" style=\"width: 300px;\"/>\n",
    "\n",
    "```Um vendedor possui uma lista de empresas que ele deverá visitar em um certo dia. Não existe uma ordem fixa: desde que todos sejam visitados seu objetivo do dia está cumprido. Interessado em passar o maior tempo possível nos clientes ele precisa encontrar a sequência de visitas que resulta no menor caminho.```\n",
    "\n",
    "Para nosso projeto em específico, temos algumas simplificações:\n",
    "- o nosso caixeiro usa Waze e já sabe qual é o caminho com a menor distância entre dois pontos;\n",
    "- ele começa seu trajeto na empresa 0. Ou seja, basta ele encontrar um trajeto que passe por todas as outras e volte a empresa ```0```;\n",
    "- ele não pode passar duas vezes na mesma empresa. Ou seja, a saída é uma permutação de ```0 ... (N-1)```\n",
    "\n",
    "\n",
    "\n",
    "Finalmente, os objetivos deste projeto são\n",
    "\n",
    "1. implementar uma versão GPU em C++ do caixeiro viajante a partir de uma versão sequencial em C++.\n",
    "2. Estudar e implementar os seguintes métodos paralelos:\n",
    "    * busca local paralela usando 2-opt\n",
    "\n",
    "** Como descrito em https://github.com/Insper/supercomp/blob/master/projeto-02/enunciado.md"
   ]
  },
  {
   "cell_type": "markdown",
   "metadata": {},
   "source": [
    "## Organização do Projeto\n",
    "\n",
    "O projeto foi realizado utilizando a linguagem C++ e o compilador nvcc do CUDA na máquina p2.xlarge da AWS (que possui uma GPU NVIDIA Tesla K80). Temos, então, alguns arquivos diferentes.\n",
    "\n",
    "* Arquivo random_sol.cu, que gera 10000 soluções aleatórias e retorna o melhor resultado entre elas.\n",
    "* Arquivo 2opt_sol.cu, que gera 10000 soluções aleatórias, mas as otimiza utilizando a busca local 2-opt.\n",
    "\n",
    "Além disso, o projeto possui um CMakeLists.txt que possibilita a compilação dos executáveis. São eles:\n",
    "* random_sol (solução aleatória em GPU)\n",
    "* 2opt_spl (solução aleatória em GPU com otimização 2-opt)\n",
    "* time_random_sol (sem print de tempo - solução aleatória em GPU)\n",
    "* time_2opt_spl (sem print de tempo - solução aleatória em GPU com otimização 2-opt)\n",
    "\n",
    "Para compilar todos os executáveis, basta usar os seguintes comandos na pasta raíz do projeto:\n",
    "\n",
    "```mkdir build; cd build; cmake ..; make ```\n",
    "\n",
    "O comando ```make``` é responsável por compilar os executáveis.\n",
    "Após isso, para iniciar cada executável, basta utilizar o comando \n",
    "\n",
    "```./nome_do_arquivo < ../tests/nome_da_entrada```\n",
    "\n",
    "dentro da pasta ```build```."
   ]
  },
  {
   "cell_type": "markdown",
   "metadata": {},
   "source": [
    "## Comparação com CPU\n",
    "\n",
    "O projeto em GPU tem diferenças bastante significativas em relação ao projeto em CPU. Podemos comparar com uma lista de prós em contras.\n",
    "\n",
    "Projeto GPU:\n",
    "Vantagens:\n",
    "- Consegue lidar com entradas muito maiores (CPU travava com 15, GPU roda em alguns ms entrada de tamanho 32).\n",
    "- Problemas intratáveis em paralelo acabam sendo tratáveis, pois temos tempos mais razoáveis de execução.\n",
    "\n",
    "Desvantagens:\n",
    "- Maior dificuldade de paralelizar o código (código CUDA mais difícil que OpenMP).\n",
    "- Não devolve o custo mais otimizado nesse caso.\n",
    "\n",
    "Podemos então concluir que a implementação em paralelo para problemas pequenos é bastante interessante, pois temos a solução ótima nesses casos. Contudo, para problemas maiores, a solução paralela demora muito mais, então a GPU acaba \"brilhando\" nesse caso. Apesar de não trazer a solução ótima, ela consegue computar o problema."
   ]
  },
  {
   "cell_type": "markdown",
   "metadata": {},
   "source": [
    "## Resultados"
   ]
  },
  {
   "cell_type": "markdown",
   "metadata": {},
   "source": [
    "# Testes de Desempenho\n",
    "\n",
    "Aqui estamos preocupados com a diferença de desempenho, então o tamanho das entradas é maior. O tempo foi medido a partir da biblioteca <cuda_runtime> e o nvprof do próprio CUDA. Testaremos então o tempo de uma execução e a saída para as duas soluções em GPU (aleatório e 2-opt). Para isso, existem alguns problemas já resolvidos que serão utilizados de exemplo aqui. São eles:\n",
    "- berlin52.txt (N = 52)\n",
    "- ch130.txt (N = 130)\n",
    "- gil262.txt (N = 262)\n",
    "\n",
    "OBS: outros executáveis foram criados para que a saída devolvesse o tempo, mas o código neles é igual."
   ]
  },
  {
   "cell_type": "code",
   "execution_count": 1,
   "metadata": {},
   "outputs": [],
   "source": [
    "key = \"/home/filipefborba/Documents/Keys/IgorNvidia.pem\"\n",
    "host = \"ec2-user@ec2-54-198-90-27.compute-1.amazonaws.com\" # MUDAR O IP AQUI\n",
    "working_directory = \"/home/ec2-user/borba/supercomp/projeto-03/\" # MUDAR A PASTA AQUI"
   ]
  },
  {
   "cell_type": "code",
   "execution_count": 2,
   "metadata": {},
   "outputs": [],
   "source": [
    "%matplotlib inline\n",
    "import os\n",
    "import subprocess\n",
    "\n",
    "import numpy as np\n",
    "import matplotlib.pyplot as plt\n",
    "import pandas as pd\n",
    "import re"
   ]
  },
  {
   "cell_type": "code",
   "execution_count": 3,
   "metadata": {},
   "outputs": [
    {
     "data": {
      "text/plain": [
       "['2opt_sol', 'random_sol']"
      ]
     },
     "execution_count": 3,
     "metadata": {},
     "output_type": "execute_result"
    }
   ],
   "source": [
    "# Listar os executaveis\n",
    "output = subprocess.check_output([\"ssh\", \"-i\", key, host, \"cd\", working_directory+\"build/\", \"&&\", \"ls\"])\n",
    "output = output.decode(\"utf-8\").splitlines()\n",
    "files = sorted([x for x in output if (x.endswith(\"sol\") and not x.startswith(\"time\"))])\n",
    "files"
   ]
  },
  {
   "cell_type": "code",
   "execution_count": 4,
   "metadata": {},
   "outputs": [
    {
     "data": {
      "text/plain": [
       "['berlin52.txt', 'ch130.txt', 'gil262.txt']"
      ]
     },
     "execution_count": 4,
     "metadata": {},
     "output_type": "execute_result"
    }
   ],
   "source": [
    "# Pegar o nome das entradas menores\n",
    "output = subprocess.check_output([\"ssh\", \"-i\", key, host, \"cd\", working_directory, \"&&\", \"ls\"])\n",
    "output = output.decode(\"utf-8\").splitlines()\n",
    "inputs = sorted([x for x in output if (x.endswith(\".txt\") and (x != \"CMakeLists.txt\"))])\n",
    "inputs"
   ]
  },
  {
   "cell_type": "code",
   "execution_count": 5,
   "metadata": {},
   "outputs": [],
   "source": [
    "# Converter us para ms\n",
    "def fix_time(time):\n",
    "    if (time.endswith(\"us\")):\n",
    "        return float(time[:-2])/1000\n",
    "    elif (time.endswith(\"ms\")):\n",
    "        return float(time[:-2])\n",
    "    elif (time.endswith(\"s\")):\n",
    "        return float(time[:-1])*1000\n",
    "    else:\n",
    "        print(\"time not us, ms or s\")\n",
    "        return 0"
   ]
  },
  {
   "cell_type": "code",
   "execution_count": 6,
   "metadata": {},
   "outputs": [],
   "source": [
    "def get_name_and_time(output, name):\n",
    "    if (name == \"2opt_sol\"):\n",
    "        name = \"opt_sol\"\n",
    "    for s in output:\n",
    "        found_name = s.find(name)\n",
    "        if found_name != -1:\n",
    "            result = s[found_name:found_name+len(name)]\n",
    "            found_time = re.search('%(.*)s ', s)\n",
    "            if (found_time == None):\n",
    "                pass\n",
    "            else:\n",
    "                print(found_time.group(1).split()[0], result)\n",
    "                return found_time.group(1).split()[0], result"
   ]
  },
  {
   "cell_type": "code",
   "execution_count": 13,
   "metadata": {},
   "outputs": [],
   "source": [
    "# Tempos de alocacao e copia de memoria, alem de kernel.\n",
    "def run_basic_test(file, input_file):\n",
    "    with open('./tests/' + input_file, 'rb', 0) as f:\n",
    "        output = subprocess.check_output([\"ssh\", \"-i\", key, host, \"cd\", working_directory, \"&&\",\n",
    "                                     f\"./{file}\"], stdin=f, stderr=subprocess.STDOUT)\n",
    "        output = output.decode(\"utf-8\").splitlines()\n",
    "    \n",
    "    print(f\"--{file}------{input_file}--\")\n",
    "    print(output[2])\n",
    "    print(output[3])"
   ]
  },
  {
   "cell_type": "code",
   "execution_count": 8,
   "metadata": {},
   "outputs": [],
   "source": [
    "# Tempos de alocacao e copia de memoria, alem de kernel.\n",
    "def run_nvprof_test(file, input_file):\n",
    "    with open('./tests/' + input_file, 'rb', 0) as f:\n",
    "        output = subprocess.check_output([\"ssh\", \"-i\", key, host, \"cd\", working_directory, \"&&\",\n",
    "                                     \"nvprof\", f\"./{file}\"], stdin=f, stderr=subprocess.STDOUT)\n",
    "        output = output.decode(\"utf-8\").splitlines()\n",
    "    \n",
    "    print(f\"--{file}------{input_file}--\")\n",
    "    kernel_time, kernel_name = get_name_and_time(output, str(file))\n",
    "    htod_time, htod_name = get_name_and_time(output, \"[CUDA memcpy HtoD]\")\n",
    "    dtoh_time, dtoh_name = get_name_and_time(output, \"[CUDA memcpy DtoH]\")\n",
    "    malloc_time, malloc_name = get_name_and_time(output, \"cudaMalloc\")\n",
    "    kernel_time = fix_time(kernel_time)\n",
    "    htod_time = fix_time(htod_time)\n",
    "    dtoh_time = fix_time(dtoh_time)\n",
    "    malloc_time = fix_time(malloc_time)\n",
    "    return [file, input_file,\n",
    "        kernel_time, kernel_name,\n",
    "        htod_time, htod_name,\n",
    "        dtoh_time, dtoh_name,\n",
    "        malloc_time, malloc_name\n",
    "           ]"
   ]
  },
  {
   "cell_type": "code",
   "execution_count": 14,
   "metadata": {},
   "outputs": [
    {
     "name": "stdout",
     "output_type": "stream",
     "text": [
      "--2opt_sol------ch130.txt--\n",
      "14252.90850 0\n",
      "0 120 66 5 101 9 12 95 8 81 88 30 33 63 60 108 75 44 10 4 15 70 129 1 24 47 25 96 6 123 128 38 79 117 68 85 87 69 106 126 62 118 76 112 35 83 31 97 67 109 93 18 26 84 65 124 89 77 22 107 7 17 13 121 54 59 50 119 41 43 92 116 114 27 111 72 55 110 122 100 56 51 74 73 91 16 53 104 61 127 103 42 28 11 86 64 98 90 71 19 58 29 82 34 78 94 102 80 37 105 57 48 52 3 99 14 23 115 45 2 113 125 32 21 46 39 36 20 49 40 \n",
      "--random_sol------ch130.txt--\n",
      "37835.12676 0\n",
      "0 69 18 97 101 77 57 98 87 82 19 51 6 23 27 104 70 33 53 55 81 124 36 30 17 123 103 42 83 31 47 24 66 52 119 127 62 126 94 37 38 88 50 109 67 80 64 35 49 95 121 5 107 79 3 25 85 93 2 7 65 61 96 56 8 118 72 71 128 102 76 110 68 44 59 92 9 13 12 90 122 78 4 39 84 74 22 73 116 60 100 46 14 16 29 115 48 10 111 91 41 112 125 63 26 58 21 45 99 113 86 120 20 105 11 54 1 32 108 15 114 117 28 43 129 75 34 40 89 106 \n"
     ]
    }
   ],
   "source": [
    "# Vamos rodar um teste básico para ver a qualidade da solucao. O ch130.txt é suficiente.\n",
    "for f in files:\n",
    "    run_basic_test(f, \"ch130.txt\")"
   ]
  },
  {
   "cell_type": "code",
   "execution_count": 10,
   "metadata": {},
   "outputs": [
    {
     "name": "stdout",
     "output_type": "stream",
     "text": [
      "--2opt_sol------berlin52.txt--\n",
      "547.47ms opt_sol\n",
      "4.2560us [CUDA memcpy HtoD]\n",
      "115.87us [CUDA memcpy DtoH]\n",
      "127.71ms cudaMalloc\n",
      "--random_sol------berlin52.txt--\n",
      "37.293ms random_sol\n",
      "3.9670us [CUDA memcpy HtoD]\n",
      "115.29us [CUDA memcpy DtoH]\n",
      "125.39ms cudaMalloc\n",
      "--2opt_sol------ch130.txt--\n",
      "8.79075s opt_sol\n",
      "4.1600us [CUDA memcpy HtoD]\n",
      "277.60us [CUDA memcpy DtoH]\n",
      "126.40ms cudaMalloc\n",
      "--random_sol------ch130.txt--\n",
      "85.575ms random_sol\n",
      "4.1940us [CUDA memcpy HtoD]\n",
      "278.97us [CUDA memcpy DtoH]\n",
      "126.35ms cudaMalloc\n",
      "--2opt_sol------gil262.txt--\n",
      "76.0782s opt_sol\n",
      "4.5120us [CUDA memcpy HtoD]\n",
      "557.05us [CUDA memcpy DtoH]\n",
      "124.59ms cudaMalloc\n",
      "--random_sol------gil262.txt--\n",
      "191.19ms random_sol\n",
      "4.5120us [CUDA memcpy HtoD]\n",
      "558.94us [CUDA memcpy DtoH]\n",
      "134.11ms cudaMalloc\n"
     ]
    }
   ],
   "source": [
    "data = []\n",
    "for i in inputs:\n",
    "    for f in files:\n",
    "        data.append(run_nvprof_test(f, i))"
   ]
  },
  {
   "cell_type": "code",
   "execution_count": 11,
   "metadata": {},
   "outputs": [
    {
     "data": {
      "text/html": [
       "<div>\n",
       "<style scoped>\n",
       "    .dataframe tbody tr th:only-of-type {\n",
       "        vertical-align: middle;\n",
       "    }\n",
       "\n",
       "    .dataframe tbody tr th {\n",
       "        vertical-align: top;\n",
       "    }\n",
       "\n",
       "    .dataframe thead th {\n",
       "        text-align: right;\n",
       "    }\n",
       "</style>\n",
       "<table border=\"1\" class=\"dataframe\">\n",
       "  <thead>\n",
       "    <tr style=\"text-align: right;\">\n",
       "      <th></th>\n",
       "      <th>0</th>\n",
       "      <th>1</th>\n",
       "      <th>2</th>\n",
       "      <th>3</th>\n",
       "      <th>4</th>\n",
       "      <th>5</th>\n",
       "      <th>6</th>\n",
       "      <th>7</th>\n",
       "      <th>8</th>\n",
       "      <th>9</th>\n",
       "    </tr>\n",
       "  </thead>\n",
       "  <tbody>\n",
       "    <tr>\n",
       "      <td>0</td>\n",
       "      <td>2opt_sol</td>\n",
       "      <td>berlin52.txt</td>\n",
       "      <td>547.470</td>\n",
       "      <td>opt_sol</td>\n",
       "      <td>0.004256</td>\n",
       "      <td>[CUDA memcpy HtoD]</td>\n",
       "      <td>0.11587</td>\n",
       "      <td>[CUDA memcpy DtoH]</td>\n",
       "      <td>127.71</td>\n",
       "      <td>cudaMalloc</td>\n",
       "    </tr>\n",
       "    <tr>\n",
       "      <td>1</td>\n",
       "      <td>random_sol</td>\n",
       "      <td>berlin52.txt</td>\n",
       "      <td>37.293</td>\n",
       "      <td>random_sol</td>\n",
       "      <td>0.003967</td>\n",
       "      <td>[CUDA memcpy HtoD]</td>\n",
       "      <td>0.11529</td>\n",
       "      <td>[CUDA memcpy DtoH]</td>\n",
       "      <td>125.39</td>\n",
       "      <td>cudaMalloc</td>\n",
       "    </tr>\n",
       "    <tr>\n",
       "      <td>2</td>\n",
       "      <td>2opt_sol</td>\n",
       "      <td>ch130.txt</td>\n",
       "      <td>8790.750</td>\n",
       "      <td>opt_sol</td>\n",
       "      <td>0.004160</td>\n",
       "      <td>[CUDA memcpy HtoD]</td>\n",
       "      <td>0.27760</td>\n",
       "      <td>[CUDA memcpy DtoH]</td>\n",
       "      <td>126.40</td>\n",
       "      <td>cudaMalloc</td>\n",
       "    </tr>\n",
       "    <tr>\n",
       "      <td>3</td>\n",
       "      <td>random_sol</td>\n",
       "      <td>ch130.txt</td>\n",
       "      <td>85.575</td>\n",
       "      <td>random_sol</td>\n",
       "      <td>0.004194</td>\n",
       "      <td>[CUDA memcpy HtoD]</td>\n",
       "      <td>0.27897</td>\n",
       "      <td>[CUDA memcpy DtoH]</td>\n",
       "      <td>126.35</td>\n",
       "      <td>cudaMalloc</td>\n",
       "    </tr>\n",
       "    <tr>\n",
       "      <td>4</td>\n",
       "      <td>2opt_sol</td>\n",
       "      <td>gil262.txt</td>\n",
       "      <td>76078.200</td>\n",
       "      <td>opt_sol</td>\n",
       "      <td>0.004512</td>\n",
       "      <td>[CUDA memcpy HtoD]</td>\n",
       "      <td>0.55705</td>\n",
       "      <td>[CUDA memcpy DtoH]</td>\n",
       "      <td>124.59</td>\n",
       "      <td>cudaMalloc</td>\n",
       "    </tr>\n",
       "    <tr>\n",
       "      <td>5</td>\n",
       "      <td>random_sol</td>\n",
       "      <td>gil262.txt</td>\n",
       "      <td>191.190</td>\n",
       "      <td>random_sol</td>\n",
       "      <td>0.004512</td>\n",
       "      <td>[CUDA memcpy HtoD]</td>\n",
       "      <td>0.55894</td>\n",
       "      <td>[CUDA memcpy DtoH]</td>\n",
       "      <td>134.11</td>\n",
       "      <td>cudaMalloc</td>\n",
       "    </tr>\n",
       "  </tbody>\n",
       "</table>\n",
       "</div>"
      ],
      "text/plain": [
       "            0             1          2           3         4  \\\n",
       "0    2opt_sol  berlin52.txt    547.470     opt_sol  0.004256   \n",
       "1  random_sol  berlin52.txt     37.293  random_sol  0.003967   \n",
       "2    2opt_sol     ch130.txt   8790.750     opt_sol  0.004160   \n",
       "3  random_sol     ch130.txt     85.575  random_sol  0.004194   \n",
       "4    2opt_sol    gil262.txt  76078.200     opt_sol  0.004512   \n",
       "5  random_sol    gil262.txt    191.190  random_sol  0.004512   \n",
       "\n",
       "                    5        6                   7       8           9  \n",
       "0  [CUDA memcpy HtoD]  0.11587  [CUDA memcpy DtoH]  127.71  cudaMalloc  \n",
       "1  [CUDA memcpy HtoD]  0.11529  [CUDA memcpy DtoH]  125.39  cudaMalloc  \n",
       "2  [CUDA memcpy HtoD]  0.27760  [CUDA memcpy DtoH]  126.40  cudaMalloc  \n",
       "3  [CUDA memcpy HtoD]  0.27897  [CUDA memcpy DtoH]  126.35  cudaMalloc  \n",
       "4  [CUDA memcpy HtoD]  0.55705  [CUDA memcpy DtoH]  124.59  cudaMalloc  \n",
       "5  [CUDA memcpy HtoD]  0.55894  [CUDA memcpy DtoH]  134.11  cudaMalloc  "
      ]
     },
     "execution_count": 11,
     "metadata": {},
     "output_type": "execute_result"
    }
   ],
   "source": [
    "df = pd.DataFrame(data, dtype=np.float64)\n",
    "df\n",
    "\n",
    "# Coluna 0: Executável\n",
    "# Coluna 1: Entrada\n",
    "# Coluna 2: Tempo de execução Kernel\n",
    "# Coluna 3: Nome kernel\n",
    "# Coluna 4: Tempo de execução Memcpy\n",
    "# Coluna 5: Nome memcpy HtoD\n",
    "# Coluna 6: Tempo de execução Memcpy\n",
    "# Coluna 7: Nome memcpy DtoH\n",
    "# Coluna 8: Tempo de execução Malloc"
   ]
  },
  {
   "cell_type": "code",
   "execution_count": 12,
   "metadata": {},
   "outputs": [
    {
     "data": {
      "image/png": "[encoded data removed]",
      "text/plain": [
       "<Figure size 432x288 with 1 Axes>"
      ]
     },
     "metadata": {
      "needs_background": "light"
     },
     "output_type": "display_data"
    }
   ],
   "source": [
    "groups = df.groupby(0)\n",
    "\n",
    "fig, ax = plt.subplots()\n",
    "for name, group in groups:\n",
    "    ax.plot(group[1], group[2], marker='o', linestyle='-', ms=5, label=group[0])\n",
    "plt.title('Tempos para executáveis diferentes')\n",
    "plt.ylabel('Tempo (ms)')\n",
    "plt.xlabel('Entrada Utilizada')\n",
    "plt.legend(loc='upper left', bbox_to_anchor=(1, 1))\n",
    "plt.show()"
   ]
  },
  {
   "cell_type": "markdown",
   "metadata": {},
   "source": [
    "Como podemos verificar no gráfico acima, o algoritmo 2opt_sol acaba sendo MUITO mais lento que o random_sol. Isso acontece porque o 2opt realiza 2 fors que permutam a solução aleatória com o objetivo de encontrar um custo melhor. Além disso, para cada permutação, ele recalcula o custo total, sendo, novamente, bem ineficiente em termos de operações.  \n",
    "Contudo, como pudemos verificar nos testes básicos, o 2opt acaba encontrando caminhos com custo bem menores, o que acaba sendo muito interessante, visto que sua implementação está totalmente ingênua.\n",
    "\n",
    "Ainda, verificando o dataframe, podemos verificar que o tempo de alocação de memória e cópia acaba sendo quase insignificante perto do tempo de processamento do kernel das funções. Esse efeito acaba crescendo muito quanto maior as entradas: o tempo de \"preparação\" é mínimo e de processamento é máximo.\n",
    "\n",
    "Para melhorar o programa, seria necessário otimizar a memória e balancear melhor as cargas das threads. Ainda, seria interessante a utilização do Branch and Bound nesse caso, mas a implementação não é tão trivial. "
   ]
  }
 ],
 "metadata": {
  "kernelspec": {
   "display_name": "Python 3",
   "language": "python",
   "name": "python3"
  },
  "language_info": {
   "codemirror_mode": {
    "name": "ipython",
    "version": 3
   },
   "file_extension": ".py",
   "mimetype": "text/x-python",
   "name": "python",
   "nbconvert_exporter": "python",
   "pygments_lexer": "ipython3",
   "version": "3.6.8"
  }
 },
 "nbformat": 4,
 "nbformat_minor": 2
}
