{
 "cells": [
  {
   "cell_type": "markdown",
   "metadata": {},
   "source": [
    "# Projeto 2: Multi-core\n",
    "### Filipe F. Borba  \n",
    "### Insper\n",
    "### Super Computação, Prof. Igor Montagner\n"
   ]
  },
  {
   "cell_type": "markdown",
   "metadata": {},
   "source": [
    "## Introdução\n",
    "\n",
    "O problema explorado nesse projeto é o algoritmo do Caixeiro Viajante. Este problema encontra-se na área de Otimização discreta, que estuda problemas de otimização baseados em uma sequência de escolhas e que a solução ótima só pode ser encontrada se enumerarmos todas as escolhas possíveis. Em outras palavras, só conseguimos achar a solução ótima se tivermos todas as soluções possíveis. Assim, não existem algoritmos mais eficientes de resolução, pois todos tem complexidade O(2^n) ou pior.\n",
    "\n",
    "Ao realizar esse teste das sequências de escolhas em paralelo, podemos diminuir consideravelmente o consumo de tempo do programa, o que é bastante interessante para computacão paralela.\n",
    "\n",
    "O problema do Caixeiro Viajante é o seguinte:\n",
    "\n",
    "<img src=\"https://camo.githubusercontent.com/a4d91635c96d345fc31068a4420834d23654f82b/68747470733a2f2f75706c6f61642e77696b696d656469612e6f72672f77696b6970656469612f636f6d6d6f6e732f7468756d622f312f31312f474c504b5f736f6c7574696f6e5f6f665f615f74726176656c6c696e675f73616c65736d616e5f70726f626c656d2e7376672f35313270782d474c504b5f736f6c7574696f6e5f6f665f615f74726176656c6c696e675f73616c65736d616e5f70726f626c656d2e7376672e706e67\" alt=\"TSP\" style=\"width: 300px;\"/>\n",
    "\n",
    "```Um vendedor possui uma lista de empresas que ele deverá visitar em um certo dia. Não existe uma ordem fixa: desde que todos sejam visitados seu objetivo do dia está cumprido. Interessado em passar o maior tempo possível nos clientes ele precisa encontrar a sequência de visitas que resulta no menor caminho.```\n",
    "\n",
    "Para nosso projeto em específico, temos algumas simplificações:\n",
    "- o nosso caixeiro usa Waze e já sabe qual é o caminho com a menor distância entre dois pontos;\n",
    "- ele começa seu trajeto na empresa 0. Ou seja, basta ele encontrar um trajeto que passe por todas as outras e volte a empresa ```0```;\n",
    "- ele não pode passar duas vezes na mesma empresa. Ou seja, a saída é uma permutação de ```0 ... (N-1)```\n",
    "\n",
    "\n",
    "\n",
    "Finalmente, os objetivos deste projeto são\n",
    "\n",
    "1. implementar uma versão sequencial em C++ do caixeiro viajante a partir de uma implementação em Python.\n",
    "2. Estudar e implementar os seguintes métodos paralelos:\n",
    "    * enumeracão exaustiva em paralelo\n",
    "    * busca local paralela usando 2-opt\n",
    "    * branch and bound (ou heuristic search)\n",
    "\n",
    "** Como descrito em https://github.com/Insper/supercomp/blob/master/projeto-02/enunciado.md"
   ]
  },
  {
   "cell_type": "markdown",
   "metadata": {},
   "source": [
    "## Branch and Bound\n",
    "\n",
    "Um dos métodos de paralelismo utilizados foi o branch and bound, que melhora o tempo de execução do algoritmo drasticamente. A ideia do Branch and Bound é ignorar o resto dos caminhos de uma subárvore de recursão caso seu custo atual já seja pior do que o melhor custo calculado. Com isso, realizamos menos operações e ganhamos desempenho."
   ]
  },
  {
   "cell_type": "markdown",
   "metadata": {},
   "source": [
    "## Organização do Projeto\n",
    "\n",
    "O projeto foi realizado utilizando a linguagem C++ e o compilador g++ do Ubuntu Linux com a biblioteca OpenMP. Temos, então, alguns arquivos diferentes.\n",
    "\n",
    "* Arquivo tsp.py, que implenta o método de enumeração exaustiva sequencial em Python. (Este serve como referência para os outros).\n",
    "* Arquivo tsp_seq.cpp, que implementa o mesmo método, porém em C++.\n",
    "* Arquivo tsp_par.cpp, que implementa o método de enumeração exaustiva em paralelo.\n",
    "\n",
    "OBS: temos o arquivo ```gerador.py``` para gerar uma entrada fixa para que possamos testar a mesma entrada em diferentes executáveis. Para usá-lo e salvar uma entrada, basta utilizar o comando na pasta raíz do projeto\n",
    "\n",
    "```echo N | python3 gerador.py > ./tests/nome_da_entrada```, \n",
    "\n",
    "onde N é o número de pontos.\n",
    "\n",
    "Além disso, o projeto possui um CMakeLists.txt que possibilita a compilação dos executáveis. São eles:\n",
    "* tsp_seq (sequencial)\n",
    "* tsp_par (paralelo)\n",
    "* time_tsp_seq (sequencial com print do tempo)\n",
    "* time_tsp_par (paralelo com print do tempo)\n",
    "\n",
    "Para compilar todos os executáveis, basta usar os seguintes comandos na pasta raíz do projeto:\n",
    "\n",
    "```mkdir build; cd build; cmake ..; make ```\n",
    "\n",
    "O comando ```make``` é responsável por compilar os executáveis.\n",
    "Após isso, para iniciar cada executável, basta utilizar o comando \n",
    "\n",
    "```./nome_do_arquivo < ../tests/nome_da_entrada```\n",
    "\n",
    "dentro da pasta ```build```.\n",
    "\n",
    "Caso queira rodar o arquivo em Python, utilize\n",
    "\n",
    "```python3 tsp.py < ./tests/nome_da_entrada```"
   ]
  },
  {
   "cell_type": "markdown",
   "metadata": {},
   "source": [
    "## Resultados\n",
    "\n",
    "### Testes Básico\n",
    "Nesta seção, vamos testar os diferentes executáveis com uma entrada com 5 e outra com 6 pontos. Com isso, podemos verificar se nossas saídas estão dentro do esperado, usando a saída do programa em Python como referência.\n",
    "\n",
    "OBS: Os arquivos de teste usados estarão sempre com o número de pontos no nome do arquivo."
   ]
  },
  {
   "cell_type": "code",
   "execution_count": 1,
   "metadata": {},
   "outputs": [],
   "source": [
    "%matplotlib inline\n",
    "import os\n",
    "import subprocess\n",
    "\n",
    "import numpy as np\n",
    "import matplotlib.pyplot as plt\n",
    "import pandas as pd"
   ]
  },
  {
   "cell_type": "code",
   "execution_count": 2,
   "metadata": {},
   "outputs": [
    {
     "data": {
      "text/plain": [
       "['tsp_bb', 'tsp_par', 'tsp_seq']"
      ]
     },
     "execution_count": 2,
     "metadata": {},
     "output_type": "execute_result"
    }
   ],
   "source": [
    "# Pegar o nome dos executaveis\n",
    "executables = sorted([n for n in os.listdir(\"./build/\") if n.startswith('tsp')])\n",
    "executables"
   ]
  },
  {
   "cell_type": "code",
   "execution_count": 3,
   "metadata": {},
   "outputs": [
    {
     "data": {
      "text/plain": [
       "['in05.txt', 'in06.txt']"
      ]
     },
     "execution_count": 3,
     "metadata": {},
     "output_type": "execute_result"
    }
   ],
   "source": [
    "# Pegar o nome das entradas menores\n",
    "inputs = sorted([n for n in os.listdir(\"./tests/\") if n.startswith('in0')])\n",
    "inputs"
   ]
  },
  {
   "cell_type": "code",
   "execution_count": 4,
   "metadata": {},
   "outputs": [],
   "source": [
    "def run_basic_test(executable, input_file):\n",
    "    with open('./tests/' + input_file, 'rb', 0) as f:\n",
    "        output = subprocess.check_output(['./build/' + str(executable)], stdin=f)\n",
    "        output = output.decode(\"utf-8\").splitlines()\n",
    "     \n",
    "    print(f\"--{executable}------{input_file}--\")\n",
    "    print(\"\\n\".join(output))\n",
    "\n",
    "def run_basic_test_python(executable, input_file):\n",
    "    with open('./tests/' + input_file, 'rb', 0) as f:\n",
    "        output = subprocess.check_output(['python3', executable], stdin=f)\n",
    "        output = output.decode(\"utf-8\").splitlines()\n",
    "     \n",
    "    print(f\"--{executable}------{input_file}--\")\n",
    "    print(\"\\n\".join(output))"
   ]
  },
  {
   "cell_type": "code",
   "execution_count": 5,
   "metadata": {},
   "outputs": [
    {
     "name": "stdout",
     "output_type": "stream",
     "text": [
      "--tsp.py------in05.txt--\n",
      "18599.56718 1\n",
      "0 3 1 2 4\n",
      "--tsp_bb------in05.txt--\n",
      "18599.56718 1\n",
      "0 4 2 1 3 \n",
      "--tsp_par------in05.txt--\n",
      "18599.56718 1\n",
      "0 3 1 2 4 \n",
      "--tsp_seq------in05.txt--\n",
      "18599.56718 1\n",
      "0 3 1 2 4 \n",
      "--tsp.py------in06.txt--\n",
      "6301.16236 1\n",
      "0 3 2 5 1 4\n",
      "--tsp_bb------in06.txt--\n",
      "6301.16236 1\n",
      "0 3 2 5 1 4 \n",
      "--tsp_par------in06.txt--\n",
      "6301.16236 1\n",
      "0 3 2 5 1 4 \n",
      "--tsp_seq------in06.txt--\n",
      "6301.16236 1\n",
      "0 3 2 5 1 4 \n"
     ]
    }
   ],
   "source": [
    "# Caso queira rodar todos os testes básicos, use:\n",
    "py_script = \"tsp.py\"\n",
    "\n",
    "for i in inputs:\n",
    "    run_basic_test_python(py_script, i)\n",
    "    for e in executables:\n",
    "        run_basic_test(e, i)"
   ]
  },
  {
   "cell_type": "markdown",
   "metadata": {},
   "source": [
    "# Testes de Desempenho\n",
    "\n",
    "Aqui estamos preocupados com a diferença de desempenho, então o tamanho das entradas é maior. O tempo foi medido a partir da biblioteca <chrono> e o high_resolution_clock. Como validamos nossa saída com os testes básicos, não precisamos rodar o programa em Python, pois ele demora muito mais do que os outros. A partir de uma entrada de tamanho N=14, o algoritmo começa a demorar muito e o gráfico de comparação ficaria estranho, então não foram testados com tamanhos maiores.\n",
    "    \n",
    "OBS: outros executáveis foram criados para que a saída devolvesse o tempo, mas o código neles é igual."
   ]
  },
  {
   "cell_type": "code",
   "execution_count": 6,
   "metadata": {},
   "outputs": [],
   "source": [
    "def run_test(executable, input_file):\n",
    "    with open('./tests/' + input_file, 'rb', 0) as f:\n",
    "        output = subprocess.check_output(['./build/' + str(executable)], stdin=f)\n",
    "        output = output.decode(\"utf-8\").splitlines()\n",
    "     \n",
    "    print(f\"--{executable}------{input_file}--\")\n",
    "    print(\"\\n\".join(output))\n",
    "    return [executable, input_file, output[0]]"
   ]
  },
  {
   "cell_type": "code",
   "execution_count": 7,
   "metadata": {
    "scrolled": false
   },
   "outputs": [
    {
     "name": "stdout",
     "output_type": "stream",
     "text": [
      "--time_tsp_bb------in10.txt--\n",
      "2\n",
      "milisegundo(s).\n",
      "6303.41552 1\n",
      "0 9 5 2 1 7 8 3 4 6 \n",
      "--time_tsp_par------in10.txt--\n",
      "11\n",
      "milisegundo(s).\n",
      "6303.41552 1\n",
      "0 9 5 2 1 7 8 3 4 6 \n",
      "--time_tsp_seq------in10.txt--\n",
      "22\n",
      "milisegundo(s).\n",
      "6303.41552 1\n",
      "0 9 5 2 1 7 8 3 4 6 \n",
      "--time_tsp_bb------in11.txt--\n",
      "9\n",
      "milisegundo(s).\n",
      "14910.06920 1\n",
      "0 9 8 7 10 4 1 5 3 6 2 \n",
      "--time_tsp_par------in11.txt--\n",
      "65\n",
      "milisegundo(s).\n",
      "14910.06920 1\n",
      "0 9 8 7 10 4 1 5 3 6 2 \n",
      "--time_tsp_seq------in11.txt--\n",
      "189\n",
      "milisegundo(s).\n",
      "14910.06920 1\n",
      "0 9 8 7 10 4 1 5 3 6 2 \n",
      "--time_tsp_bb------in12.txt--\n",
      "46\n",
      "milisegundo(s).\n",
      "15761.98802 1\n",
      "0 9 5 2 7 1 8 6 4 10 11 3 \n",
      "--time_tsp_par------in12.txt--\n",
      "674\n",
      "milisegundo(s).\n",
      "15761.98802 1\n",
      "0 9 5 2 7 1 8 6 4 10 11 3 \n",
      "--time_tsp_seq------in12.txt--\n",
      "1995\n",
      "milisegundo(s).\n",
      "15761.98802 1\n",
      "0 9 5 2 7 1 8 6 4 10 11 3 \n",
      "--time_tsp_bb------in13.txt--\n",
      "231\n",
      "milisegundo(s).\n",
      "14961.71525 1\n",
      "0 12 11 2 1 7 4 9 6 5 8 10 3 \n",
      "--time_tsp_par------in13.txt--\n",
      "6962\n",
      "milisegundo(s).\n",
      "14961.71525 1\n",
      "0 12 11 2 1 7 4 9 6 5 8 10 3 \n",
      "--time_tsp_seq------in13.txt--\n",
      "25386\n",
      "milisegundo(s).\n",
      "14961.71525 1\n",
      "0 12 11 2 1 7 4 9 6 5 8 10 3 \n"
     ]
    }
   ],
   "source": [
    "# Vamos rodar os testes pesados e colher dados de desempenho\n",
    "executables = sorted([n for n in os.listdir(\"./build/\") if n.startswith('time')])\n",
    "inputs = sorted([n for n in os.listdir(\"./tests/\") if n.startswith('in1')])\n",
    "data = []\n",
    "for i in inputs:\n",
    "    for e in executables:\n",
    "        data.append(run_test(e, i))"
   ]
  },
  {
   "cell_type": "code",
   "execution_count": 8,
   "metadata": {},
   "outputs": [
    {
     "data": {
      "text/html": [
       "<div>\n",
       "<style scoped>\n",
       "    .dataframe tbody tr th:only-of-type {\n",
       "        vertical-align: middle;\n",
       "    }\n",
       "\n",
       "    .dataframe tbody tr th {\n",
       "        vertical-align: top;\n",
       "    }\n",
       "\n",
       "    .dataframe thead th {\n",
       "        text-align: right;\n",
       "    }\n",
       "</style>\n",
       "<table border=\"1\" class=\"dataframe\">\n",
       "  <thead>\n",
       "    <tr style=\"text-align: right;\">\n",
       "      <th></th>\n",
       "      <th>0</th>\n",
       "      <th>1</th>\n",
       "      <th>2</th>\n",
       "    </tr>\n",
       "  </thead>\n",
       "  <tbody>\n",
       "    <tr>\n",
       "      <td>0</td>\n",
       "      <td>time_tsp_bb</td>\n",
       "      <td>in10.txt</td>\n",
       "      <td>2.0</td>\n",
       "    </tr>\n",
       "    <tr>\n",
       "      <td>1</td>\n",
       "      <td>time_tsp_par</td>\n",
       "      <td>in10.txt</td>\n",
       "      <td>11.0</td>\n",
       "    </tr>\n",
       "    <tr>\n",
       "      <td>2</td>\n",
       "      <td>time_tsp_seq</td>\n",
       "      <td>in10.txt</td>\n",
       "      <td>22.0</td>\n",
       "    </tr>\n",
       "    <tr>\n",
       "      <td>3</td>\n",
       "      <td>time_tsp_bb</td>\n",
       "      <td>in11.txt</td>\n",
       "      <td>9.0</td>\n",
       "    </tr>\n",
       "    <tr>\n",
       "      <td>4</td>\n",
       "      <td>time_tsp_par</td>\n",
       "      <td>in11.txt</td>\n",
       "      <td>65.0</td>\n",
       "    </tr>\n",
       "    <tr>\n",
       "      <td>5</td>\n",
       "      <td>time_tsp_seq</td>\n",
       "      <td>in11.txt</td>\n",
       "      <td>189.0</td>\n",
       "    </tr>\n",
       "    <tr>\n",
       "      <td>6</td>\n",
       "      <td>time_tsp_bb</td>\n",
       "      <td>in12.txt</td>\n",
       "      <td>46.0</td>\n",
       "    </tr>\n",
       "    <tr>\n",
       "      <td>7</td>\n",
       "      <td>time_tsp_par</td>\n",
       "      <td>in12.txt</td>\n",
       "      <td>674.0</td>\n",
       "    </tr>\n",
       "    <tr>\n",
       "      <td>8</td>\n",
       "      <td>time_tsp_seq</td>\n",
       "      <td>in12.txt</td>\n",
       "      <td>1995.0</td>\n",
       "    </tr>\n",
       "    <tr>\n",
       "      <td>9</td>\n",
       "      <td>time_tsp_bb</td>\n",
       "      <td>in13.txt</td>\n",
       "      <td>231.0</td>\n",
       "    </tr>\n",
       "    <tr>\n",
       "      <td>10</td>\n",
       "      <td>time_tsp_par</td>\n",
       "      <td>in13.txt</td>\n",
       "      <td>6962.0</td>\n",
       "    </tr>\n",
       "    <tr>\n",
       "      <td>11</td>\n",
       "      <td>time_tsp_seq</td>\n",
       "      <td>in13.txt</td>\n",
       "      <td>25386.0</td>\n",
       "    </tr>\n",
       "  </tbody>\n",
       "</table>\n",
       "</div>"
      ],
      "text/plain": [
       "               0         1        2\n",
       "0    time_tsp_bb  in10.txt      2.0\n",
       "1   time_tsp_par  in10.txt     11.0\n",
       "2   time_tsp_seq  in10.txt     22.0\n",
       "3    time_tsp_bb  in11.txt      9.0\n",
       "4   time_tsp_par  in11.txt     65.0\n",
       "5   time_tsp_seq  in11.txt    189.0\n",
       "6    time_tsp_bb  in12.txt     46.0\n",
       "7   time_tsp_par  in12.txt    674.0\n",
       "8   time_tsp_seq  in12.txt   1995.0\n",
       "9    time_tsp_bb  in13.txt    231.0\n",
       "10  time_tsp_par  in13.txt   6962.0\n",
       "11  time_tsp_seq  in13.txt  25386.0"
      ]
     },
     "execution_count": 8,
     "metadata": {},
     "output_type": "execute_result"
    }
   ],
   "source": [
    "df = pd.DataFrame(data, dtype=np.float64)\n",
    "df"
   ]
  },
  {
   "cell_type": "code",
   "execution_count": 9,
   "metadata": {},
   "outputs": [
    {
     "data": {
      "image/png": "[encoded data removed]",
      "text/plain": [
       "<Figure size 432x288 with 1 Axes>"
      ]
     },
     "metadata": {
      "needs_background": "light"
     },
     "output_type": "display_data"
    }
   ],
   "source": [
    "groups = df.groupby(0)\n",
    "\n",
    "fig, ax = plt.subplots()\n",
    "for name, group in groups:\n",
    "    ax.plot(group[1], group[2], marker='o', linestyle='-', ms=5, label=group[0])\n",
    "plt.title('Tempos para executáveis diferentes')\n",
    "plt.ylabel('Tempo (ms)')\n",
    "plt.xlabel('Entrada Utilizada')\n",
    "plt.legend(loc='upper left', bbox_to_anchor=(1, 1))\n",
    "plt.show()"
   ]
  },
  {
   "cell_type": "markdown",
   "metadata": {},
   "source": [
    "Como podemos verificar no gráfico acima, o algoritmo sequencial acaba sendo muito mais lento que os paralelos, dado que ele está fazendo a busca exaustiva totalmente e sem paralelizar distribuir o processamento.\n",
    "acaba não sendo tão mais rápido que o sequencial. Já, o método de Branch and Bound é muito mais rápido que os demais, pois além de ser paralelo, realiza menos operações do que os outros algoritmos, pois acaba ignorando certos caminhos quando eles já estão piores que a melhor solução atual encontrada. Por fim, o método paralelo é bem mais rápido do que o sequencial, mas não utiliza o \"truque\" do branch and bound, então ele não diminui o tamanho do problema que precisa resolver, processando dados \"inúteis\".\n",
    "\n",
    "Outro ponto interessante de se notar é como o tempo de execução aumenta exponencialmente dado um incremento pequeno de N. Isso indica que é extremamente necessário estudar esses problemas a fundo e trazer soluções mais otimizadas (como o Branch and Bound) ao implementá-las."
   ]
  }
 ],
 "metadata": {
  "kernelspec": {
   "display_name": "Python 3",
   "language": "python",
   "name": "python3"
  },
  "language_info": {
   "codemirror_mode": {
    "name": "ipython",
    "version": 3
   },
   "file_extension": ".py",
   "mimetype": "text/x-python",
   "name": "python",
   "nbconvert_exporter": "python",
   "pygments_lexer": "ipython3",
   "version": "3.6.8"
  }
 },
 "nbformat": 4,
 "nbformat_minor": 2
}
