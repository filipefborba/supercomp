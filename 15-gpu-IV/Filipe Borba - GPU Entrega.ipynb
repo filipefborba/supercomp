{
 "cells": [
  {
   "cell_type": "markdown",
   "metadata": {},
   "source": [
    "# Entrega GPU IV - Shared\n",
    "### Filipe F. Borba  \n",
    "### Insper\n",
    "### Super Computação, Prof. Igor Montagner\n"
   ]
  },
  {
   "cell_type": "markdown",
   "metadata": {},
   "source": [
    "## Introdução\n",
    "\n",
    "O objetivo dessa entrega é comparar diversos algoritmos de multiplicação de matrizes para verificar a diferença das implementações em GPU. Com isso, foram utilizados vetores de tamanho size * size, onde size está em [128, 512, 1024]. Ao utilizar um vetor de tamanho 2048 o programa começava a demorar demais para as soluções mais fracas. A máquina utilizada foi uma p2.xlarge da AWS, que possui uma GPU NVIDIA Tesla K80."
   ]
  },
  {
   "cell_type": "markdown",
   "metadata": {},
   "source": [
    "## Entrega"
   ]
  },
  {
   "cell_type": "code",
   "execution_count": 1,
   "metadata": {},
   "outputs": [],
   "source": [
    "%matplotlib inline\n",
    "import os\n",
    "import subprocess\n",
    "\n",
    "import numpy as np\n",
    "import matplotlib.pyplot as plt\n",
    "import pandas as pd\n",
    "import re"
   ]
  },
  {
   "cell_type": "code",
   "execution_count": 2,
   "metadata": {},
   "outputs": [],
   "source": [
    "key = \"/home/filipefborba/Documents/Keys/IgorNvidia.pem\"\n",
    "host = \"ec2-user@ec2-54-80-199-115.compute-1.amazonaws.com\" # MUDAR O IP AQUI\n",
    "working_directory = \"/home/ec2-user/borba/supercomp/15-gpu-IV/\" # MUDAR A PASTA AQUI"
   ]
  },
  {
   "cell_type": "code",
   "execution_count": 3,
   "metadata": {},
   "outputs": [
    {
     "name": "stdout",
     "output_type": "stream",
     "text": [
      "1\n",
      "0\n",
      "0\n"
     ]
    }
   ],
   "source": [
    "# Realizar o build na máquina da aws.\n",
    "print(subprocess.call([\"ssh\", \"-i\", key, host, \"cd\", working_directory, \"&&\", \"mkdir\", \"build\"]))\n",
    "print(subprocess.call([\"ssh\", \"-i\", key, host, \"cd\", working_directory+\"build/\", \"&&\", \"cmake ..\"]))\n",
    "print(subprocess.call([\"ssh\", \"-i\", key, host, \"cd\", working_directory+\"build/\", \"&&\", \"make\", \"-j4\"]))"
   ]
  },
  {
   "cell_type": "code",
   "execution_count": 4,
   "metadata": {},
   "outputs": [
    {
     "data": {
      "text/plain": [
       "['naive1024',\n",
       " 'naive128',\n",
       " 'naive2048',\n",
       " 'naive512',\n",
       " 'par1024',\n",
       " 'par128',\n",
       " 'par2048',\n",
       " 'par512',\n",
       " 'seq1024',\n",
       " 'seq128',\n",
       " 'seq2048',\n",
       " 'seq512',\n",
       " 'tiling1024',\n",
       " 'tiling128',\n",
       " 'tiling2048',\n",
       " 'tiling512']"
      ]
     },
     "execution_count": 4,
     "metadata": {},
     "output_type": "execute_result"
    }
   ],
   "source": [
    "# Listar os executaveis\n",
    "output = subprocess.check_output([\"ssh\", \"-i\", key, host, \"cd\", working_directory+\"build/\", \"&&\", \"ls\"])\n",
    "output = output.decode(\"utf-8\").splitlines()\n",
    "files = sorted([x for x in output if (x.startswith(\"naive\") or x.startswith(\"par\") or x.startswith(\"seq\") or x.startswith(\"tiling\"))])\n",
    "files"
   ]
  },
  {
   "cell_type": "code",
   "execution_count": 5,
   "metadata": {},
   "outputs": [],
   "source": [
    "# Devolve o output e o tempo de execucao\n",
    "def run_test(file):\n",
    "    output = subprocess.check_output([\"ssh\", \"-i\", key, host, \"cd\", working_directory+\"build/\", \"&&\",\n",
    "                                 f\"./{file}\"])\n",
    "    output = output.decode(\"utf-8\").splitlines()\n",
    "    \n",
    "    filename = re.sub(\"\\d+\", \"\", file)\n",
    "    vsize = re.sub(\"\\D\", \"\", file)\n",
    "    print(f\"--{file}------{vsize}--\")\n",
    "    print(output)\n",
    "    return [filename, vsize, float(output[0][6:])]"
   ]
  },
  {
   "cell_type": "code",
   "execution_count": 6,
   "metadata": {},
   "outputs": [
    {
     "name": "stdout",
     "output_type": "stream",
     "text": [
      "--naive1024------1024--\n",
      "['Time= 24.552320']\n",
      "--naive128------128--\n",
      "['Time= 0.199008']\n",
      "--naive512------512--\n",
      "['Time= 3.257024']\n",
      "--par1024------1024--\n",
      "['Time= 0.000000']\n",
      "--par128------128--\n",
      "['Time= 0.000000']\n",
      "--par512------512--\n",
      "['Time= 0.000000']\n",
      "--seq1024------1024--\n",
      "['Time= 3447.623535']\n",
      "--seq128------128--\n",
      "['Time= 2.517536']\n",
      "--seq512------512--\n",
      "['Time= 351.397949']\n",
      "--tiling1024------1024--\n",
      "['Time= 8.90128']\n",
      "--tiling128------128--\n",
      "['Time= 0.15130']\n",
      "--tiling512------512--\n",
      "['Time= 1.24045']\n"
     ]
    }
   ],
   "source": [
    "# Tempo de Execução\n",
    "data = []\n",
    "for f in files:\n",
    "    if (not f.endswith(\"2048\")):\n",
    "        data.append(run_test(f))"
   ]
  },
  {
   "cell_type": "code",
   "execution_count": 7,
   "metadata": {},
   "outputs": [],
   "source": [
    "# Converter us para ms\n",
    "def fix_time(time):\n",
    "    if (time.endswith(\"us\")):\n",
    "        return float(time[:-2])/1000\n",
    "    elif (time.endswith(\"ms\")):\n",
    "        return float(time[:-2])\n",
    "    elif (time.endswith(\"s\")):\n",
    "        return float(time[:-1])*1000\n",
    "    else:\n",
    "        print(\"time not us, ms or s\")\n",
    "        return 0"
   ]
  },
  {
   "cell_type": "code",
   "execution_count": 8,
   "metadata": {},
   "outputs": [],
   "source": [
    "# Pegar nome e tempo de execucao\n",
    "def get_name_and_time(output, name):\n",
    "    if (name.startswith(\"tiling\")):\n",
    "        name = \"multMat\"\n",
    "    if (name.startswith(\"naive\")):\n",
    "        name = \"MatrixMulKernel\"\n",
    "    for s in output:\n",
    "        found_name = s.find(name)\n",
    "        if found_name != -1:\n",
    "            result = s[found_name:found_name+len(name)]\n",
    "            found_time = re.search('%(.*)s ', s)\n",
    "            if (found_time == None):\n",
    "                pass\n",
    "            else:\n",
    "                print(found_time.group(1).split()[0], result)\n",
    "                return found_time.group(1).split()[0], result"
   ]
  },
  {
   "cell_type": "code",
   "execution_count": 9,
   "metadata": {},
   "outputs": [],
   "source": [
    "# Tempos de alocacao e copia de memoria, alem de kernel.\n",
    "def run_nvprof_test(file):\n",
    "    output = subprocess.check_output([\"ssh\", \"-i\", key, host, \"cd\", working_directory+\"build/\", \"&&\",\n",
    "                                 \"nvprof\", f\"./{file}\"], stderr=subprocess.STDOUT)\n",
    "    output = output.decode(\"utf-8\").splitlines()\n",
    "    \n",
    "    filename = re.sub(\"\\d+\", \"\", file)\n",
    "    vsize = re.sub(\"\\D\", \"\", file)\n",
    "    print(f\"--{file}------{vsize}--\")\n",
    "    kernel_time, kernel_name = get_name_and_time(output, str(file))\n",
    "    htod_time, htod_name = get_name_and_time(output, \"[CUDA memcpy HtoD]\")\n",
    "    dtoh_time, dtoh_name = get_name_and_time(output, \"[CUDA memcpy DtoH]\")\n",
    "    malloc_time, malloc_name = get_name_and_time(output, \"cudaMalloc\")\n",
    "    kernel_time = fix_time(kernel_time)\n",
    "    htod_time = fix_time(htod_time)\n",
    "    dtoh_time = fix_time(dtoh_time)\n",
    "    malloc_time = fix_time(malloc_time)\n",
    "    return [filename, vsize,\n",
    "        kernel_time, kernel_name,\n",
    "        htod_time, htod_name,\n",
    "        dtoh_time, dtoh_name,\n",
    "        malloc_time, malloc_name\n",
    "           ]"
   ]
  },
  {
   "cell_type": "code",
   "execution_count": 10,
   "metadata": {},
   "outputs": [
    {
     "data": {
      "text/plain": [
       "['naive1024',\n",
       " 'naive128',\n",
       " 'naive2048',\n",
       " 'naive512',\n",
       " 'tiling1024',\n",
       " 'tiling128',\n",
       " 'tiling2048',\n",
       " 'tiling512']"
      ]
     },
     "execution_count": 10,
     "metadata": {},
     "output_type": "execute_result"
    }
   ],
   "source": [
    "gpu_files = [x for x in output if (x.startswith(\"naive\") or x.startswith(\"tiling\"))]\n",
    "gpu_files"
   ]
  },
  {
   "cell_type": "code",
   "execution_count": 11,
   "metadata": {},
   "outputs": [
    {
     "name": "stdout",
     "output_type": "stream",
     "text": [
      "--naive1024------1024--\n",
      "24.416ms MatrixMulKernel\n",
      "1.1015ms [CUDA memcpy HtoD]\n",
      "1.9737ms [CUDA memcpy DtoH]\n",
      "122.84ms cudaMalloc\n",
      "--naive128------128--\n",
      "85.502us MatrixMulKernel\n",
      "33.376us [CUDA memcpy HtoD]\n",
      "11.071us [CUDA memcpy DtoH]\n",
      "132.06ms cudaMalloc\n",
      "--naive2048------2048--\n",
      "196.62ms MatrixMulKernel\n",
      "4.5355ms [CUDA memcpy HtoD]\n",
      "11.525ms [CUDA memcpy DtoH]\n",
      "131.71ms cudaMalloc\n",
      "--naive512------512--\n",
      "3.1277ms MatrixMulKernel\n",
      "272.16us [CUDA memcpy HtoD]\n",
      "134.56us [CUDA memcpy DtoH]\n",
      "131.35ms cudaMalloc\n",
      "--tiling1024------1024--\n",
      "8.7563ms multMat\n",
      "1.0927ms [CUDA memcpy HtoD]\n",
      "1.7702ms [CUDA memcpy DtoH]\n",
      "131.98ms cudaMalloc\n",
      "--tiling128------128--\n",
      "33.375us multMat\n",
      "32.384us [CUDA memcpy HtoD]\n",
      "10.880us [CUDA memcpy DtoH]\n",
      "121.62ms cudaMalloc\n",
      "--tiling2048------2048--\n",
      "69.549ms multMat\n",
      "4.5491ms [CUDA memcpy HtoD]\n",
      "12.227ms [CUDA memcpy DtoH]\n",
      "132.72ms cudaMalloc\n",
      "--tiling512------512--\n",
      "1.1244ms multMat\n",
      "272.00us [CUDA memcpy HtoD]\n",
      "134.78us [CUDA memcpy DtoH]\n",
      "123.73ms cudaMalloc\n"
     ]
    }
   ],
   "source": [
    "data_gpu = []\n",
    "for f in gpu_files:\n",
    "    data_gpu.append(run_nvprof_test(f))"
   ]
  },
  {
   "cell_type": "markdown",
   "metadata": {},
   "source": [
    "# Resultados\n",
    "\n",
    "Aqui estamos preocupados com a diferença de desempenho, então foram plotados gráficos para verificar a diferença entre as soluções."
   ]
  },
  {
   "cell_type": "code",
   "execution_count": 22,
   "metadata": {},
   "outputs": [
    {
     "data": {
      "text/html": [
       "<div>\n",
       "<style scoped>\n",
       "    .dataframe tbody tr th:only-of-type {\n",
       "        vertical-align: middle;\n",
       "    }\n",
       "\n",
       "    .dataframe tbody tr th {\n",
       "        vertical-align: top;\n",
       "    }\n",
       "\n",
       "    .dataframe thead th {\n",
       "        text-align: right;\n",
       "    }\n",
       "</style>\n",
       "<table border=\"1\" class=\"dataframe\">\n",
       "  <thead>\n",
       "    <tr style=\"text-align: right;\">\n",
       "      <th></th>\n",
       "      <th>0</th>\n",
       "      <th>1</th>\n",
       "      <th>2</th>\n",
       "    </tr>\n",
       "  </thead>\n",
       "  <tbody>\n",
       "    <tr>\n",
       "      <td>1</td>\n",
       "      <td>naive</td>\n",
       "      <td>128.0</td>\n",
       "      <td>0.199008</td>\n",
       "    </tr>\n",
       "    <tr>\n",
       "      <td>2</td>\n",
       "      <td>naive</td>\n",
       "      <td>512.0</td>\n",
       "      <td>3.257024</td>\n",
       "    </tr>\n",
       "    <tr>\n",
       "      <td>0</td>\n",
       "      <td>naive</td>\n",
       "      <td>1024.0</td>\n",
       "      <td>24.552320</td>\n",
       "    </tr>\n",
       "    <tr>\n",
       "      <td>4</td>\n",
       "      <td>par</td>\n",
       "      <td>128.0</td>\n",
       "      <td>0.000000</td>\n",
       "    </tr>\n",
       "    <tr>\n",
       "      <td>5</td>\n",
       "      <td>par</td>\n",
       "      <td>512.0</td>\n",
       "      <td>0.000000</td>\n",
       "    </tr>\n",
       "    <tr>\n",
       "      <td>3</td>\n",
       "      <td>par</td>\n",
       "      <td>1024.0</td>\n",
       "      <td>0.000000</td>\n",
       "    </tr>\n",
       "    <tr>\n",
       "      <td>7</td>\n",
       "      <td>seq</td>\n",
       "      <td>128.0</td>\n",
       "      <td>2.517536</td>\n",
       "    </tr>\n",
       "    <tr>\n",
       "      <td>8</td>\n",
       "      <td>seq</td>\n",
       "      <td>512.0</td>\n",
       "      <td>351.397949</td>\n",
       "    </tr>\n",
       "    <tr>\n",
       "      <td>6</td>\n",
       "      <td>seq</td>\n",
       "      <td>1024.0</td>\n",
       "      <td>3447.623535</td>\n",
       "    </tr>\n",
       "    <tr>\n",
       "      <td>10</td>\n",
       "      <td>tiling</td>\n",
       "      <td>128.0</td>\n",
       "      <td>0.151300</td>\n",
       "    </tr>\n",
       "    <tr>\n",
       "      <td>11</td>\n",
       "      <td>tiling</td>\n",
       "      <td>512.0</td>\n",
       "      <td>1.240450</td>\n",
       "    </tr>\n",
       "    <tr>\n",
       "      <td>9</td>\n",
       "      <td>tiling</td>\n",
       "      <td>1024.0</td>\n",
       "      <td>8.901280</td>\n",
       "    </tr>\n",
       "  </tbody>\n",
       "</table>\n",
       "</div>"
      ],
      "text/plain": [
       "         0       1            2\n",
       "1    naive   128.0     0.199008\n",
       "2    naive   512.0     3.257024\n",
       "0    naive  1024.0    24.552320\n",
       "4      par   128.0     0.000000\n",
       "5      par   512.0     0.000000\n",
       "3      par  1024.0     0.000000\n",
       "7      seq   128.0     2.517536\n",
       "8      seq   512.0   351.397949\n",
       "6      seq  1024.0  3447.623535\n",
       "10  tiling   128.0     0.151300\n",
       "11  tiling   512.0     1.240450\n",
       "9   tiling  1024.0     8.901280"
      ]
     },
     "execution_count": 22,
     "metadata": {},
     "output_type": "execute_result"
    }
   ],
   "source": [
    "df = pd.DataFrame(data, dtype=np.float64)\n",
    "df = df.sort_values(by=[0, 1])\n",
    "df"
   ]
  },
  {
   "cell_type": "code",
   "execution_count": 23,
   "metadata": {},
   "outputs": [
    {
     "data": {
      "text/html": [
       "<div>\n",
       "<style scoped>\n",
       "    .dataframe tbody tr th:only-of-type {\n",
       "        vertical-align: middle;\n",
       "    }\n",
       "\n",
       "    .dataframe tbody tr th {\n",
       "        vertical-align: top;\n",
       "    }\n",
       "\n",
       "    .dataframe thead th {\n",
       "        text-align: right;\n",
       "    }\n",
       "</style>\n",
       "<table border=\"1\" class=\"dataframe\">\n",
       "  <thead>\n",
       "    <tr style=\"text-align: right;\">\n",
       "      <th></th>\n",
       "      <th>0</th>\n",
       "      <th>1</th>\n",
       "      <th>2</th>\n",
       "      <th>3</th>\n",
       "      <th>4</th>\n",
       "      <th>5</th>\n",
       "      <th>6</th>\n",
       "      <th>7</th>\n",
       "      <th>8</th>\n",
       "      <th>9</th>\n",
       "    </tr>\n",
       "  </thead>\n",
       "  <tbody>\n",
       "    <tr>\n",
       "      <td>1</td>\n",
       "      <td>naive</td>\n",
       "      <td>128.0</td>\n",
       "      <td>0.085502</td>\n",
       "      <td>MatrixMulKernel</td>\n",
       "      <td>0.033376</td>\n",
       "      <td>[CUDA memcpy HtoD]</td>\n",
       "      <td>0.011071</td>\n",
       "      <td>[CUDA memcpy DtoH]</td>\n",
       "      <td>132.06</td>\n",
       "      <td>cudaMalloc</td>\n",
       "    </tr>\n",
       "    <tr>\n",
       "      <td>3</td>\n",
       "      <td>naive</td>\n",
       "      <td>512.0</td>\n",
       "      <td>3.127700</td>\n",
       "      <td>MatrixMulKernel</td>\n",
       "      <td>0.272160</td>\n",
       "      <td>[CUDA memcpy HtoD]</td>\n",
       "      <td>0.134560</td>\n",
       "      <td>[CUDA memcpy DtoH]</td>\n",
       "      <td>131.35</td>\n",
       "      <td>cudaMalloc</td>\n",
       "    </tr>\n",
       "    <tr>\n",
       "      <td>0</td>\n",
       "      <td>naive</td>\n",
       "      <td>1024.0</td>\n",
       "      <td>24.416000</td>\n",
       "      <td>MatrixMulKernel</td>\n",
       "      <td>1.101500</td>\n",
       "      <td>[CUDA memcpy HtoD]</td>\n",
       "      <td>1.973700</td>\n",
       "      <td>[CUDA memcpy DtoH]</td>\n",
       "      <td>122.84</td>\n",
       "      <td>cudaMalloc</td>\n",
       "    </tr>\n",
       "    <tr>\n",
       "      <td>2</td>\n",
       "      <td>naive</td>\n",
       "      <td>2048.0</td>\n",
       "      <td>196.620000</td>\n",
       "      <td>MatrixMulKernel</td>\n",
       "      <td>4.535500</td>\n",
       "      <td>[CUDA memcpy HtoD]</td>\n",
       "      <td>11.525000</td>\n",
       "      <td>[CUDA memcpy DtoH]</td>\n",
       "      <td>131.71</td>\n",
       "      <td>cudaMalloc</td>\n",
       "    </tr>\n",
       "    <tr>\n",
       "      <td>5</td>\n",
       "      <td>tiling</td>\n",
       "      <td>128.0</td>\n",
       "      <td>0.033375</td>\n",
       "      <td>multMat</td>\n",
       "      <td>0.032384</td>\n",
       "      <td>[CUDA memcpy HtoD]</td>\n",
       "      <td>0.010880</td>\n",
       "      <td>[CUDA memcpy DtoH]</td>\n",
       "      <td>121.62</td>\n",
       "      <td>cudaMalloc</td>\n",
       "    </tr>\n",
       "    <tr>\n",
       "      <td>7</td>\n",
       "      <td>tiling</td>\n",
       "      <td>512.0</td>\n",
       "      <td>1.124400</td>\n",
       "      <td>multMat</td>\n",
       "      <td>0.272000</td>\n",
       "      <td>[CUDA memcpy HtoD]</td>\n",
       "      <td>0.134780</td>\n",
       "      <td>[CUDA memcpy DtoH]</td>\n",
       "      <td>123.73</td>\n",
       "      <td>cudaMalloc</td>\n",
       "    </tr>\n",
       "    <tr>\n",
       "      <td>4</td>\n",
       "      <td>tiling</td>\n",
       "      <td>1024.0</td>\n",
       "      <td>8.756300</td>\n",
       "      <td>multMat</td>\n",
       "      <td>1.092700</td>\n",
       "      <td>[CUDA memcpy HtoD]</td>\n",
       "      <td>1.770200</td>\n",
       "      <td>[CUDA memcpy DtoH]</td>\n",
       "      <td>131.98</td>\n",
       "      <td>cudaMalloc</td>\n",
       "    </tr>\n",
       "    <tr>\n",
       "      <td>6</td>\n",
       "      <td>tiling</td>\n",
       "      <td>2048.0</td>\n",
       "      <td>69.549000</td>\n",
       "      <td>multMat</td>\n",
       "      <td>4.549100</td>\n",
       "      <td>[CUDA memcpy HtoD]</td>\n",
       "      <td>12.227000</td>\n",
       "      <td>[CUDA memcpy DtoH]</td>\n",
       "      <td>132.72</td>\n",
       "      <td>cudaMalloc</td>\n",
       "    </tr>\n",
       "  </tbody>\n",
       "</table>\n",
       "</div>"
      ],
      "text/plain": [
       "        0       1           2                3         4                   5  \\\n",
       "1   naive   128.0    0.085502  MatrixMulKernel  0.033376  [CUDA memcpy HtoD]   \n",
       "3   naive   512.0    3.127700  MatrixMulKernel  0.272160  [CUDA memcpy HtoD]   \n",
       "0   naive  1024.0   24.416000  MatrixMulKernel  1.101500  [CUDA memcpy HtoD]   \n",
       "2   naive  2048.0  196.620000  MatrixMulKernel  4.535500  [CUDA memcpy HtoD]   \n",
       "5  tiling   128.0    0.033375          multMat  0.032384  [CUDA memcpy HtoD]   \n",
       "7  tiling   512.0    1.124400          multMat  0.272000  [CUDA memcpy HtoD]   \n",
       "4  tiling  1024.0    8.756300          multMat  1.092700  [CUDA memcpy HtoD]   \n",
       "6  tiling  2048.0   69.549000          multMat  4.549100  [CUDA memcpy HtoD]   \n",
       "\n",
       "           6                   7       8           9  \n",
       "1   0.011071  [CUDA memcpy DtoH]  132.06  cudaMalloc  \n",
       "3   0.134560  [CUDA memcpy DtoH]  131.35  cudaMalloc  \n",
       "0   1.973700  [CUDA memcpy DtoH]  122.84  cudaMalloc  \n",
       "2  11.525000  [CUDA memcpy DtoH]  131.71  cudaMalloc  \n",
       "5   0.010880  [CUDA memcpy DtoH]  121.62  cudaMalloc  \n",
       "7   0.134780  [CUDA memcpy DtoH]  123.73  cudaMalloc  \n",
       "4   1.770200  [CUDA memcpy DtoH]  131.98  cudaMalloc  \n",
       "6  12.227000  [CUDA memcpy DtoH]  132.72  cudaMalloc  "
      ]
     },
     "execution_count": 23,
     "metadata": {},
     "output_type": "execute_result"
    }
   ],
   "source": [
    "df2 = pd.DataFrame(data_gpu, dtype=np.float64)\n",
    "df2 = df2.sort_values(by=[0, 1])\n",
    "df2"
   ]
  },
  {
   "cell_type": "code",
   "execution_count": 24,
   "metadata": {},
   "outputs": [
    {
     "data": {
      "image/png": "[encoded data removed]",
      "text/plain": [
       "<Figure size 432x288 with 1 Axes>"
      ]
     },
     "metadata": {
      "needs_background": "light"
     },
     "output_type": "display_data"
    }
   ],
   "source": [
    "groups = df.groupby(0)\n",
    "\n",
    "fig, ax = plt.subplots()\n",
    "for name, group in groups:\n",
    "    ax.plot(group[1], group[2], marker='o', linestyle='-', ms=5, label=group[0])\n",
    "plt.title('Tempos para executáveis diferentes')\n",
    "plt.ylabel('Tempo (ms)')\n",
    "plt.xlabel('Tamanho de Entrada')\n",
    "plt.legend(loc='upper left', bbox_to_anchor=(1, 1))\n",
    "plt.show()"
   ]
  },
  {
   "cell_type": "code",
   "execution_count": 27,
   "metadata": {},
   "outputs": [
    {
     "data": {
      "image/png": "[encoded data removed]",
      "text/plain": [
       "<Figure size 432x288 with 1 Axes>"
      ]
     },
     "metadata": {
      "needs_background": "light"
     },
     "output_type": "display_data"
    }
   ],
   "source": [
    "groups = df2.groupby(0)\n",
    "\n",
    "fig, ax = plt.subplots()\n",
    "for name, group in groups:\n",
    "    ax.plot(group[1], group[4], marker='o', linestyle='-', ms=5, label=group[5])\n",
    "    ax.plot(group[1], group[6], marker='o', linestyle='-', ms=5, label=group[7])\n",
    "    ax.plot(group[1], group[8], marker='o', linestyle='-', ms=5, label=group[9])\n",
    "    \n",
    "plt.title('Tempos para executáveis diferentes')\n",
    "plt.ylabel('Tempo (ms)')\n",
    "plt.xlabel('Tamanho de Entrada')\n",
    "plt.legend(loc='upper left', bbox_to_anchor=(1, 1))\n",
    "plt.show()"
   ]
  },
  {
   "cell_type": "markdown",
   "metadata": {},
   "source": [
    "Como podemos verificar nos gráficos acima, o tempo de execução dos algoritmos que utilizam a GPU são muito menores, sendo o algoritmo de Tiling o mais eficiente. Isso ocorre pois a GPU é muito superior em realizar operações em paralelo e o Tiling é o algoritmo \"esperto\" para isso.  \n",
    "\n",
    "Além disso, como podemos verificar nos tempos de alocação e cópia dos dois executáveis, o custo acaba não sendo tão relevante, chegando a ser próximo de constante. Isso nos indica que esses custos de alocação e cópia tem um overhead quase que fixo, assim, ao aproveitar isso e usar muitos dados, os tempos de execução ficam bem rápidos (e ao usar entradas pequenas e não aproveitar, esse custo fica bem mais evidente)."
   ]
  }
 ],
 "metadata": {
  "kernelspec": {
   "display_name": "Python 3",
   "language": "python",
   "name": "python3"
  },
  "language_info": {
   "codemirror_mode": {
    "name": "ipython",
    "version": 3
   },
   "file_extension": ".py",
   "mimetype": "text/x-python",
   "name": "python",
   "nbconvert_exporter": "python",
   "pygments_lexer": "ipython3",
   "version": "3.6.8"
  }
 },
 "nbformat": 4,
 "nbformat_minor": 2
}
