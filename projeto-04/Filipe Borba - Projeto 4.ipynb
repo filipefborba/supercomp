{
 "cells": [
  {
   "cell_type": "markdown",
   "metadata": {},
   "source": [
    "# Projeto 4: MPI\n",
    "### Filipe F. Borba  \n",
    "### Insper\n",
    "### Super Computação, Prof. Igor Montagner\n"
   ]
  },
  {
   "cell_type": "markdown",
   "metadata": {},
   "source": [
    "## Introdução\n",
    "\n",
    "O problema explorado nesse projeto é o algoritmo do Caixeiro Viajante. Este problema encontra-se na área de Otimização discreta, que estuda problemas de otimização baseados em uma sequência de escolhas e que a solução ótima só pode ser encontrada se enumerarmos todas as escolhas possíveis. Em outras palavras, só conseguimos achar a solução ótima se tivermos todas as soluções possíveis. Assim, não existem algoritmos mais eficientes de resolução, pois todos tem complexidade O(2^n) ou pior.\n",
    "\n",
    "Ao realizar esse teste das sequências de escolhas em paralelo, podemos diminuir consideravelmente o consumo de tempo do programa, o que é bastante interessante para computacão paralela. Contudo, conseguimos potencializar ainda mais essa solução ao utilizar uma GPU que supera a CPU nesses casos, pois possui centenas de threads disponíveis para realizar os cálculos. Mais que isso, se utilizarmos uma série de computadores que conversam entre si via MPI, a performance escala exponencialmente.\n",
    "\n",
    "O problema do Caixeiro Viajante é o seguinte:\n",
    "\n",
    "<img src=\"https://camo.githubusercontent.com/a4d91635c96d345fc31068a4420834d23654f82b/68747470733a2f2f75706c6f61642e77696b696d656469612e6f72672f77696b6970656469612f636f6d6d6f6e732f7468756d622f312f31312f474c504b5f736f6c7574696f6e5f6f665f615f74726176656c6c696e675f73616c65736d616e5f70726f626c656d2e7376672f35313270782d474c504b5f736f6c7574696f6e5f6f665f615f74726176656c6c696e675f73616c65736d616e5f70726f626c656d2e7376672e706e67\" alt=\"TSP\" style=\"width: 300px;\"/>\n",
    "\n",
    "```Um vendedor possui uma lista de empresas que ele deverá visitar em um certo dia. Não existe uma ordem fixa: desde que todos sejam visitados seu objetivo do dia está cumprido. Interessado em passar o maior tempo possível nos clientes ele precisa encontrar a sequência de visitas que resulta no menor caminho.```\n",
    "\n",
    "Para nosso projeto em específico, temos algumas simplificações:\n",
    "- o nosso caixeiro usa Waze e já sabe qual é o caminho com a menor distância entre dois pontos;\n",
    "- ele começa seu trajeto na empresa 0. Ou seja, basta ele encontrar um trajeto que passe por todas as outras e volte a empresa ```0```;\n",
    "- ele não pode passar duas vezes na mesma empresa. Ou seja, a saída é uma permutação de ```0 ... (N-1)```\n",
    "\n",
    "\n",
    "\n",
    "Finalmente, os objetivos deste projeto são\n",
    "\n",
    "1. implementar uma versão ingênua do 2-opt utilizando MPI.\n",
    "2. implementar a enumeração exaustiva utilizando MPI.\n",
    "\n",
    "De maneira mais avançada, também temos:\n",
    "3. implementar a enumeração exaustiva com branch and bound utilizando MPI.\n",
    "4. implementar a enumeração exaustiva com branch and bound utilizando MPI e GPU.\n",
    "\n",
    "** Como descrito em https://github.com/Insper/supercomp/blob/master/projeto-02/enunciado.md"
   ]
  },
  {
   "cell_type": "markdown",
   "metadata": {},
   "source": [
    "## Organização do Projeto\n",
    "\n",
    "O projeto foi realizado utilizando a linguagem C++ e o Boost MPI, juntamente com 3 máquinas t3.micro da AWS. Temos, então, alguns arquivos diferentes.\n",
    "\n",
    "* Arquivo 2opt_sol.cpp, que gera 10.000 soluções aleatórias, mas as otimiza utilizando a busca local 2-opt.\n",
    "* Arquivo mpi-sol.cpp, que realiza a enumeração exaustiva.\n",
    "\n",
    "Além disso, o projeto possui um CMakeLists.txt que possibilita a compilação dos executáveis. São eles:\n",
    "* 2opt-spl (solução aleatória com otimização 2-opt)\n",
    "* time-2opt_sol (com print de tempo - solução aleatória com otimização 2-opt)\n",
    "* mpi-sol (solução de enumeração exaustiva)\n",
    "* time-mpi-sol (com print de tempo - solução de enumeração exaustiva)\n",
    "\n",
    "OBS: os outros executáveis foram criados para que a saída devolvesse o tempo, mas o código neles é igual.\n",
    "\n",
    "Para compilar todos os executáveis, basta usar os seguintes comandos na pasta raíz do projeto:\n",
    "\n",
    "```mkdir build; cd build; cmake ..; make ```\n",
    "\n",
    "O comando ```make``` é responsável por compilar os executáveis.\n",
    "Após isso, para iniciar cada executável, basta utilizar o comando \n",
    "\n",
    "```mpiexec -n 3 ./nome_do_arquivo < ../tests/nome_da_entrada```\n",
    "\n",
    "dentro da pasta ```build```."
   ]
  },
  {
   "cell_type": "markdown",
   "metadata": {},
   "source": [
    "# Resultados"
   ]
  },
  {
   "cell_type": "markdown",
   "metadata": {},
   "source": [
    "## Comparação com Sequencial sem MPI\n",
    "\n",
    "O projeto em MPI possui poucas diferenças em relação ao projeto sequencial local. Podemos comparar com uma lista de prós em contras.\n",
    "\n",
    "Projeto MPI:  \n",
    "  \n",
    "Vantagens:\n",
    "- Ganho muito claro de desempenho por distribuir as tarefas entre várias máquinas.\n",
    "- A complexidade de implementar o código em MPI sem passar mensagens não é tão grande.\n",
    "- Escalabilidade imediata. (+ máquinas = + processamento!)\n",
    "\n",
    "Desvantagens:\n",
    "- Um código mais complexo (ex: branch and bound) pode ficar bem mais difícil de ser implementado.\n",
    "\n",
    "Podemos então concluir que a implementação em MPI é bastante interessante, pois temos a solução ótima nesses casos. Contudo, ao adicionar mais complexidade ao código (bb ou CUDA), pode ficar ainda mais difícil de implementar.\n",
    "\n",
    "Vejamos como isso se comporta na prática:"
   ]
  },
  {
   "cell_type": "code",
   "execution_count": 5,
   "metadata": {},
   "outputs": [],
   "source": [
    "%matplotlib inline\n",
    "import os\n",
    "import subprocess\n",
    "\n",
    "import numpy as np\n",
    "import matplotlib.pyplot as plt\n",
    "import pandas as pd\n",
    "import re"
   ]
  },
  {
   "cell_type": "code",
   "execution_count": 6,
   "metadata": {},
   "outputs": [
    {
     "data": {
      "text/plain": [
       "['time-mpi-sol-in10']"
      ]
     },
     "execution_count": 6,
     "metadata": {},
     "output_type": "execute_result"
    }
   ],
   "source": [
    "# Pegar o nome dos arquivos de saída\n",
    "output = sorted([n for n in os.listdir(\"./output/\")])\n",
    "output"
   ]
  },
  {
   "cell_type": "code",
   "execution_count": 11,
   "metadata": {},
   "outputs": [],
   "source": [
    "def print_file(file):\n",
    "    with open(\"./output/\" + file, 'r') as fin:\n",
    "        print(f\"-------{file}-------\")\n",
    "        print(fin.read())"
   ]
  },
  {
   "cell_type": "code",
   "execution_count": 12,
   "metadata": {},
   "outputs": [
    {
     "name": "stdout",
     "output_type": "stream",
     "text": [
      "-------time-mpi-sol-in10-------\n",
      "10\n",
      "milisegundo(s).\n",
      "6303.41552 1\n",
      "0 9 5 2 1 7 8 3 4 6 \n",
      "\n"
     ]
    }
   ],
   "source": [
    "print_file(output[0])"
   ]
  },
  {
   "cell_type": "code",
   "execution_count": 35,
   "metadata": {},
   "outputs": [],
   "source": [
    "def parse_output_file(file):\n",
    "    with open(\"./output/\" + file, 'r') as fin:\n",
    "        output = fin.read().splitlines()\n",
    "        print(file.split(\"-\"))\n",
    "        input_file = file.split(\"-\")[-1]\n",
    "        executable = file.replace(f\"-{input_file}\", \"\")\n",
    "        time = output[0]\n",
    "        ms = output[1]\n",
    "        best_cost = output[2][:-2]\n",
    "        solution = output[3]\n",
    "        return [executable, input_file, time, ms, best_cost, solution]"
   ]
  },
  {
   "cell_type": "code",
   "execution_count": 36,
   "metadata": {},
   "outputs": [
    {
     "name": "stdout",
     "output_type": "stream",
     "text": [
      "['time', 'mpi', 'sol', 'in10']\n"
     ]
    },
    {
     "data": {
      "text/plain": [
       "['time-mpi-sol',\n",
       " 'in10',\n",
       " '10',\n",
       " 'milisegundo(s).',\n",
       " '6303.41552',\n",
       " '0 9 5 2 1 7 8 3 4 6 ']"
      ]
     },
     "execution_count": 36,
     "metadata": {},
     "output_type": "execute_result"
    }
   ],
   "source": [
    "parse_output_file(output[0])"
   ]
  },
  {
   "cell_type": "markdown",
   "metadata": {},
   "source": [
    "Como pode-se observar com as saídas dos testes, o caminho encontrado pelo branch and bound é o ótimo e ele é retornado quase que imediatamente. Apesar do 2opt-sol demorar um pouquinho mais, ele também encontra o caminho ótimo, com o random-sol logo atrás, com um custo aceitável. Essa aproximação se dá pelo fato de testarmos muitas soluções (no caso, 10.000), o que permite uma aproximação melhor da solução ótima. Quanto maior o número de tentativas, mais provável do resultado ser o caminho ótimo. Nesse caso, pelo menos uma de nossas soluções otimizadas com o 2opt foi capaz de encontrar o melhor caminho possível, o que vai ser mais difícil de acontecer para caminhos maiores."
   ]
  },
  {
   "cell_type": "markdown",
   "metadata": {},
   "source": [
    "##  Testes de Desempenho\n",
    "\n",
    "Aqui estamos preocupados com a diferença de desempenho, então o tamanho das entradas é maior. O tempo foi medido a partir da biblioteca <cuda_runtime.h> e o nvprof do próprio CUDA. Testaremos então o tempo de uma execução e a saída para as duas soluções em GPU (aleatório e 2-opt). Para isso, existem alguns testes do TSPLIB já resolvidos que serão utilizados como base aqui. São eles:\n",
    "- in10.txt (N = 10) // Pequeno\n",
    "- burma14.txt (N = 14)   // Médio\n",
    "- ulysses16.txt (N = 16)  // Grande\n",
    "- ulysses22.txt (N = 22)   // Muito Grande\n",
    "\n",
    "Esses testes foram escolhidos pois já representam uma grande diferença de desempenho entre os executáveis. O pr439 serve mais para verificar os limites da máquina em termos de memória e processamentos."
   ]
  },
  {
   "cell_type": "code",
   "execution_count": 19,
   "metadata": {},
   "outputs": [
    {
     "name": "stdout",
     "output_type": "stream",
     "text": [
      "--2opt-sol------berlin52.txt--\n",
      "543.97ms opt_sol\n",
      "3.9350us [CUDA memcpy HtoD]\n",
      "113.15us [CUDA memcpy DtoH]\n",
      "133.92ms cudaMalloc\n",
      "--random-sol------berlin52.txt--\n",
      "3.0383ms random_sol\n",
      "3.9030us [CUDA memcpy HtoD]\n",
      "115.78us [CUDA memcpy DtoH]\n",
      "128.45ms cudaMalloc\n",
      "--2opt-sol------ch130.txt--\n",
      "8.72489s opt_sol\n",
      "4.1920us [CUDA memcpy HtoD]\n",
      "277.69us [CUDA memcpy DtoH]\n",
      "125.39ms cudaMalloc\n",
      "--random-sol------ch130.txt--\n",
      "5.3729ms random_sol\n",
      "4.1600us [CUDA memcpy HtoD]\n",
      "278.52us [CUDA memcpy DtoH]\n",
      "123.71ms cudaMalloc\n",
      "--2opt-sol------gil262.txt--\n",
      "75.0976s opt_sol\n",
      "4.5440us [CUDA memcpy HtoD]\n",
      "553.88us [CUDA memcpy DtoH]\n",
      "124.41ms cudaMalloc\n",
      "--random-sol------gil262.txt--\n",
      "14.233ms random_sol\n",
      "4.5120us [CUDA memcpy HtoD]\n",
      "551.51us [CUDA memcpy DtoH]\n",
      "132.29ms cudaMalloc\n",
      "--2opt-sol------pr439.txt--\n",
      "380.971s opt_sol\n",
      "5.2480us [CUDA memcpy HtoD]\n",
      "925.15us [CUDA memcpy DtoH]\n",
      "123.67ms cudaMalloc\n",
      "--random-sol------pr439.txt--\n",
      "26.411ms random_sol\n",
      "5.0240us [CUDA memcpy HtoD]\n",
      "924.30us [CUDA memcpy DtoH]\n",
      "133.09ms cudaMalloc\n"
     ]
    }
   ],
   "source": [
    "data = []\n",
    "for i in inputs:\n",
    "    for f in files[:-1]:\n",
    "        data.append(run_nvprof_test(f, i))"
   ]
  },
  {
   "cell_type": "code",
   "execution_count": 20,
   "metadata": {
    "scrolled": true
   },
   "outputs": [
    {
     "data": {
      "text/html": [
       "<div>\n",
       "<style scoped>\n",
       "    .dataframe tbody tr th:only-of-type {\n",
       "        vertical-align: middle;\n",
       "    }\n",
       "\n",
       "    .dataframe tbody tr th {\n",
       "        vertical-align: top;\n",
       "    }\n",
       "\n",
       "    .dataframe thead th {\n",
       "        text-align: right;\n",
       "    }\n",
       "</style>\n",
       "<table border=\"1\" class=\"dataframe\">\n",
       "  <thead>\n",
       "    <tr style=\"text-align: right;\">\n",
       "      <th></th>\n",
       "      <th>Executavel</th>\n",
       "      <th>Entrada</th>\n",
       "      <th>Tempo Kernel</th>\n",
       "      <th>Nome Kernel</th>\n",
       "      <th>Tempo HtoD</th>\n",
       "      <th>Nome HtoD</th>\n",
       "      <th>Tempo DtoH</th>\n",
       "      <th>Nome DtoH</th>\n",
       "      <th>Tempo Malloc</th>\n",
       "      <th>Nome Malloc</th>\n",
       "    </tr>\n",
       "  </thead>\n",
       "  <tbody>\n",
       "    <tr>\n",
       "      <td>0</td>\n",
       "      <td>2opt-sol</td>\n",
       "      <td>berlin52.txt</td>\n",
       "      <td>543.9700</td>\n",
       "      <td>opt_sol</td>\n",
       "      <td>0.003935</td>\n",
       "      <td>[CUDA memcpy HtoD]</td>\n",
       "      <td>0.11315</td>\n",
       "      <td>[CUDA memcpy DtoH]</td>\n",
       "      <td>133.92</td>\n",
       "      <td>cudaMalloc</td>\n",
       "    </tr>\n",
       "    <tr>\n",
       "      <td>1</td>\n",
       "      <td>random-sol</td>\n",
       "      <td>berlin52.txt</td>\n",
       "      <td>3.0383</td>\n",
       "      <td>random_sol</td>\n",
       "      <td>0.003903</td>\n",
       "      <td>[CUDA memcpy HtoD]</td>\n",
       "      <td>0.11578</td>\n",
       "      <td>[CUDA memcpy DtoH]</td>\n",
       "      <td>128.45</td>\n",
       "      <td>cudaMalloc</td>\n",
       "    </tr>\n",
       "    <tr>\n",
       "      <td>2</td>\n",
       "      <td>2opt-sol</td>\n",
       "      <td>ch130.txt</td>\n",
       "      <td>8724.8900</td>\n",
       "      <td>opt_sol</td>\n",
       "      <td>0.004192</td>\n",
       "      <td>[CUDA memcpy HtoD]</td>\n",
       "      <td>0.27769</td>\n",
       "      <td>[CUDA memcpy DtoH]</td>\n",
       "      <td>125.39</td>\n",
       "      <td>cudaMalloc</td>\n",
       "    </tr>\n",
       "    <tr>\n",
       "      <td>3</td>\n",
       "      <td>random-sol</td>\n",
       "      <td>ch130.txt</td>\n",
       "      <td>5.3729</td>\n",
       "      <td>random_sol</td>\n",
       "      <td>0.004160</td>\n",
       "      <td>[CUDA memcpy HtoD]</td>\n",
       "      <td>0.27852</td>\n",
       "      <td>[CUDA memcpy DtoH]</td>\n",
       "      <td>123.71</td>\n",
       "      <td>cudaMalloc</td>\n",
       "    </tr>\n",
       "    <tr>\n",
       "      <td>4</td>\n",
       "      <td>2opt-sol</td>\n",
       "      <td>gil262.txt</td>\n",
       "      <td>75097.6000</td>\n",
       "      <td>opt_sol</td>\n",
       "      <td>0.004544</td>\n",
       "      <td>[CUDA memcpy HtoD]</td>\n",
       "      <td>0.55388</td>\n",
       "      <td>[CUDA memcpy DtoH]</td>\n",
       "      <td>124.41</td>\n",
       "      <td>cudaMalloc</td>\n",
       "    </tr>\n",
       "    <tr>\n",
       "      <td>5</td>\n",
       "      <td>random-sol</td>\n",
       "      <td>gil262.txt</td>\n",
       "      <td>14.2330</td>\n",
       "      <td>random_sol</td>\n",
       "      <td>0.004512</td>\n",
       "      <td>[CUDA memcpy HtoD]</td>\n",
       "      <td>0.55151</td>\n",
       "      <td>[CUDA memcpy DtoH]</td>\n",
       "      <td>132.29</td>\n",
       "      <td>cudaMalloc</td>\n",
       "    </tr>\n",
       "    <tr>\n",
       "      <td>6</td>\n",
       "      <td>2opt-sol</td>\n",
       "      <td>pr439.txt</td>\n",
       "      <td>380971.0000</td>\n",
       "      <td>opt_sol</td>\n",
       "      <td>0.005248</td>\n",
       "      <td>[CUDA memcpy HtoD]</td>\n",
       "      <td>0.92515</td>\n",
       "      <td>[CUDA memcpy DtoH]</td>\n",
       "      <td>123.67</td>\n",
       "      <td>cudaMalloc</td>\n",
       "    </tr>\n",
       "    <tr>\n",
       "      <td>7</td>\n",
       "      <td>random-sol</td>\n",
       "      <td>pr439.txt</td>\n",
       "      <td>26.4110</td>\n",
       "      <td>random_sol</td>\n",
       "      <td>0.005024</td>\n",
       "      <td>[CUDA memcpy HtoD]</td>\n",
       "      <td>0.92430</td>\n",
       "      <td>[CUDA memcpy DtoH]</td>\n",
       "      <td>133.09</td>\n",
       "      <td>cudaMalloc</td>\n",
       "    </tr>\n",
       "  </tbody>\n",
       "</table>\n",
       "</div>"
      ],
      "text/plain": [
       "   Executavel       Entrada  Tempo Kernel Nome Kernel  Tempo HtoD  \\\n",
       "0    2opt-sol  berlin52.txt      543.9700     opt_sol    0.003935   \n",
       "1  random-sol  berlin52.txt        3.0383  random_sol    0.003903   \n",
       "2    2opt-sol     ch130.txt     8724.8900     opt_sol    0.004192   \n",
       "3  random-sol     ch130.txt        5.3729  random_sol    0.004160   \n",
       "4    2opt-sol    gil262.txt    75097.6000     opt_sol    0.004544   \n",
       "5  random-sol    gil262.txt       14.2330  random_sol    0.004512   \n",
       "6    2opt-sol     pr439.txt   380971.0000     opt_sol    0.005248   \n",
       "7  random-sol     pr439.txt       26.4110  random_sol    0.005024   \n",
       "\n",
       "            Nome HtoD  Tempo DtoH           Nome DtoH  Tempo Malloc  \\\n",
       "0  [CUDA memcpy HtoD]     0.11315  [CUDA memcpy DtoH]        133.92   \n",
       "1  [CUDA memcpy HtoD]     0.11578  [CUDA memcpy DtoH]        128.45   \n",
       "2  [CUDA memcpy HtoD]     0.27769  [CUDA memcpy DtoH]        125.39   \n",
       "3  [CUDA memcpy HtoD]     0.27852  [CUDA memcpy DtoH]        123.71   \n",
       "4  [CUDA memcpy HtoD]     0.55388  [CUDA memcpy DtoH]        124.41   \n",
       "5  [CUDA memcpy HtoD]     0.55151  [CUDA memcpy DtoH]        132.29   \n",
       "6  [CUDA memcpy HtoD]     0.92515  [CUDA memcpy DtoH]        123.67   \n",
       "7  [CUDA memcpy HtoD]     0.92430  [CUDA memcpy DtoH]        133.09   \n",
       "\n",
       "  Nome Malloc  \n",
       "0  cudaMalloc  \n",
       "1  cudaMalloc  \n",
       "2  cudaMalloc  \n",
       "3  cudaMalloc  \n",
       "4  cudaMalloc  \n",
       "5  cudaMalloc  \n",
       "6  cudaMalloc  \n",
       "7  cudaMalloc  "
      ]
     },
     "execution_count": 20,
     "metadata": {},
     "output_type": "execute_result"
    }
   ],
   "source": [
    "df = pd.DataFrame(data, dtype=np.float64, columns=[\"Executavel\", \"Entrada\", \"Tempo Kernel\", \"Nome Kernel\",\n",
    "                                                  \"Tempo HtoD\", \"Nome HtoD\", \"Tempo DtoH\", \"Nome DtoH\",\n",
    "                                                  \"Tempo Malloc\", \"Nome Malloc\"])\n",
    "df\n",
    "\n",
    "# Todos os tempos estão em milissegundos!\n",
    "# Coluna 0: Executável\n",
    "# Coluna 1: Entrada\n",
    "# Coluna 2: Tempo de execução Kernel\n",
    "# Coluna 3: Nome kernel\n",
    "# Coluna 4: Tempo de execução Memcpy\n",
    "# Coluna 5: Nome memcpy HtoD\n",
    "# Coluna 6: Tempo de execução Memcpy\n",
    "# Coluna 7: Nome memcpy DtoH\n",
    "# Coluna 8: Tempo de execução Malloc"
   ]
  },
  {
   "cell_type": "markdown",
   "metadata": {},
   "source": [
    "Verificando o dataframe, podemos verificar que o tempo de alocação de memória e cópia acaba sendo quase insignificante perto do tempo de processamento do kernel das funções. Esse efeito acaba crescendo muito quanto maior as entradas: o tempo de \"preparação\" é mínimo e de processamento é máximo. Além disso, ele não acaba mudando muito de acordo com o tamanho da entrada."
   ]
  },
  {
   "cell_type": "code",
   "execution_count": 24,
   "metadata": {},
   "outputs": [
    {
     "data": {
      "image/png": "[encoded data removed]",
      "text/plain": [
       "<Figure size 432x288 with 1 Axes>"
      ]
     },
     "metadata": {
      "needs_background": "light"
     },
     "output_type": "display_data"
    }
   ],
   "source": [
    "groups = df.groupby(\"Executavel\")\n",
    "\n",
    "fig, ax = plt.subplots()\n",
    "for name, group in groups:\n",
    "    ax.plot(group[\"Entrada\"], group[\"Tempo Kernel\"], marker='o', linestyle='-', ms=5, label=group[\"Executavel\"])\n",
    "plt.title('Tempos para executáveis diferentes')\n",
    "plt.ylabel('Tempo (ms)')\n",
    "plt.xlabel('Entrada Utilizada')\n",
    "plt.legend(loc='upper left', bbox_to_anchor=(1, 1))\n",
    "plt.show()"
   ]
  },
  {
   "cell_type": "markdown",
   "metadata": {},
   "source": [
    "Como podemos verificar nos gráficos acima, o algoritmo 2opt-sol acaba sendo MUITO mais lento que o random_sol. Isso acontece porque o 2opt realiza 2 fors que permutam a solução aleatória com o objetivo de encontrar um custo melhor. Além disso, para cada permutação, ele recalcula o custo total, sendo, novamente, bem ineficiente em termos de operações. Contudo, como pudemos verificar nos testes básicos, o 2opt acaba encontrando caminhos com custo bem menores, o que acaba sendo muito interessante, visto que sua implementação está totalmente ingênua. Portanto, o 2opt-sol sempre vai encontrar uma solução melhor que o random-sol.\n",
    "\n",
    "Para melhorar o programa, seria necessário otimizar a memória e balancear melhor as cargas das threads. Ainda, seria interessante a utilização do Branch and Bound nesse caso, mas a implementação não é tão trivial. "
   ]
  }
 ],
 "metadata": {
  "kernelspec": {
   "display_name": "Python 3",
   "language": "python",
   "name": "python3"
  },
  "language_info": {
   "codemirror_mode": {
    "name": "ipython",
    "version": 3
   },
   "file_extension": ".py",
   "mimetype": "text/x-python",
   "name": "python",
   "nbconvert_exporter": "python",
   "pygments_lexer": "ipython3",
   "version": "3.6.8"
  }
 },
 "nbformat": 4,
 "nbformat_minor": 2
}
