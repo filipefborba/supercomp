{
 "cells": [
  {
   "cell_type": "markdown",
   "metadata": {},
   "source": [
    "# Projeto 4: MPI\n",
    "### Filipe F. Borba  \n",
    "### Insper\n",
    "### Super Computação, Prof. Igor Montagner\n"
   ]
  },
  {
   "cell_type": "markdown",
   "metadata": {},
   "source": [
    "## Introdução\n",
    "\n",
    "O problema explorado nesse projeto é o algoritmo do Caixeiro Viajante. Este problema encontra-se na área de Otimização discreta, que estuda problemas de otimização baseados em uma sequência de escolhas e que a solução ótima só pode ser encontrada se enumerarmos todas as escolhas possíveis. Em outras palavras, só conseguimos achar a solução ótima se tivermos todas as soluções possíveis. Assim, não existem algoritmos mais eficientes de resolução, pois todos tem complexidade O(2^n) ou pior.\n",
    "\n",
    "Ao realizar esse teste das sequências de escolhas em paralelo, podemos diminuir consideravelmente o consumo de tempo do programa, o que é bastante interessante para a área de computacão paralela. Contudo, conseguimos potencializar ainda mais essa solução ao utilizar uma GPU que supera a CPU nesses casos, pois possui centenas de threads disponíveis para realizar os cálculos. Mais que isso, se utilizarmos uma série de computadores com GPU que conversam entre si via MPI, a performance escala exponencialmente.\n",
    "\n",
    "O problema do Caixeiro Viajante é o seguinte:\n",
    "\n",
    "<img src=\"https://camo.githubusercontent.com/a4d91635c96d345fc31068a4420834d23654f82b/68747470733a2f2f75706c6f61642e77696b696d656469612e6f72672f77696b6970656469612f636f6d6d6f6e732f7468756d622f312f31312f474c504b5f736f6c7574696f6e5f6f665f615f74726176656c6c696e675f73616c65736d616e5f70726f626c656d2e7376672f35313270782d474c504b5f736f6c7574696f6e5f6f665f615f74726176656c6c696e675f73616c65736d616e5f70726f626c656d2e7376672e706e67\" alt=\"TSP\" style=\"width: 300px;\"/>\n",
    "\n",
    "```Um vendedor possui uma lista de empresas que ele deverá visitar em um certo dia. Não existe uma ordem fixa: desde que todos sejam visitados seu objetivo do dia está cumprido. Interessado em passar o maior tempo possível nos clientes ele precisa encontrar a sequência de visitas que resulta no menor caminho.```\n",
    "\n",
    "Para nosso projeto em específico, temos algumas simplificações:\n",
    "- o nosso caixeiro usa Waze e já sabe qual é o caminho com a menor distância entre dois pontos;\n",
    "- ele começa seu trajeto na empresa 0. Ou seja, basta ele encontrar um trajeto que passe por todas as outras e volte a empresa ```0```;\n",
    "- ele não pode passar duas vezes na mesma empresa. Ou seja, a saída é uma permutação de ```0 ... (N-1)```\n",
    "\n",
    "\n",
    "\n",
    "Finalmente, os objetivos deste projeto são\n",
    "\n",
    "1. implementar uma versão ingênua do 2-opt utilizando MPI.\n",
    "2. implementar a enumeração exaustiva utilizando MPI.\n",
    "\n",
    "De maneira mais avançada, também temos:\n",
    "3. implementar a enumeração exaustiva com branch and bound utilizando MPI.\n",
    "4. implementar a enumeração exaustiva com branch and bound utilizando MPI e GPU.\n",
    "\n",
    "** Como descrito em https://github.com/Insper/supercomp/blob/master/projeto-02/enunciado.md"
   ]
  },
  {
   "cell_type": "markdown",
   "metadata": {},
   "source": [
    "## Organização do Projeto\n",
    "\n",
    "O projeto foi realizado utilizando a linguagem C++ e o Boost MPI, juntamente com 3 máquinas t3.micro da AWS sem GPU. Temos, então, alguns arquivos diferentes.\n",
    "\n",
    "* Arquivo 2opt_sol.cpp, que gera 10.000 soluções aleatórias, mas as otimiza utilizando a busca local 2-opt.\n",
    "* Arquivo mpi-sol.cpp, que realiza a enumeração exaustiva com MPI.\n",
    "\n",
    "Além disso, o projeto possui um CMakeLists.txt que possibilita a compilação dos executáveis. São eles:\n",
    "* 2opt-spl (solução aleatória com otimização 2-opt)\n",
    "* time-2opt_sol (com print de tempo - solução aleatória com otimização 2-opt)\n",
    "* mpi-sol (solução de enumeração exaustiva)\n",
    "* time-mpi-sol (com print de tempo - solução de enumeração exaustiva)\n",
    "\n",
    "OBS: os outros executáveis foram criados para que a saída devolvesse o tempo, mas o código neles é igual.\n",
    "\n",
    "Para compilar todos os executáveis, basta usar os seguintes comandos na pasta raíz do projeto:\n",
    "\n",
    "```mkdir build; cd build; cmake ..; make ```\n",
    "\n",
    "O comando ```make``` é responsável por compilar os executáveis.\n",
    "Após isso, para iniciar cada executável, basta utilizar o comando \n",
    "\n",
    "```mpiexec -n 3 ./nome_do_arquivo < ../tests/nome_da_entrada```\n",
    "\n",
    "dentro da pasta ```build```."
   ]
  },
  {
   "cell_type": "markdown",
   "metadata": {},
   "source": [
    "# Resultados"
   ]
  },
  {
   "cell_type": "markdown",
   "metadata": {},
   "source": [
    "## Comparação com Sequencial sem MPI\n",
    "\n",
    "O projeto em MPI possui poucas diferenças em relação ao projeto sequencial local. Podemos comparar com uma lista de prós e contras.\n",
    "\n",
    "Projeto MPI:  \n",
    "  \n",
    "Vantagens:\n",
    "- Ganho muito claro de desempenho por distribuir as tarefas entre várias máquinas.\n",
    "- A complexidade de implementar o código em MPI sem passar mensagens não é tão grande.\n",
    "- Escalabilidade imediata. (+ máquinas = + processamento!)\n",
    "\n",
    "Desvantagens:\n",
    "- Um código mais complexo (ex: branch and bound) pode ficar bem mais difícil de ser implementado.\n",
    "\n",
    "Podemos então concluir que a implementação em MPI é bastante interessante, pois temos a solução ótima nesses casos. Contudo, ao adicionar mais complexidade ao código (Branch and Bound ou CUDA), pode ficar ainda mais difícil de implementar.\n",
    "\n",
    "Vejamos como isso se comporta na prática:"
   ]
  },
  {
   "cell_type": "code",
   "execution_count": 1,
   "metadata": {},
   "outputs": [],
   "source": [
    "%matplotlib inline\n",
    "import os\n",
    "import subprocess\n",
    "\n",
    "import numpy as np\n",
    "import matplotlib.pyplot as plt\n",
    "import pandas as pd\n",
    "import re"
   ]
  },
  {
   "cell_type": "code",
   "execution_count": 2,
   "metadata": {},
   "outputs": [
    {
     "data": {
      "text/plain": [
       "['time-2opt-sol-burma14',\n",
       " 'time-2opt-sol-in10',\n",
       " 'time-2opt-sol-ulysses16',\n",
       " 'time-2opt-sol-ulysses22',\n",
       " 'time-mpi-sol-burma14',\n",
       " 'time-mpi-sol-in10',\n",
       " 'time-tsp-seq-in10']"
      ]
     },
     "execution_count": 2,
     "metadata": {},
     "output_type": "execute_result"
    }
   ],
   "source": [
    "# Pegar o nome dos arquivos de saída\n",
    "output = sorted([n for n in os.listdir(\"./output/\")])\n",
    "output"
   ]
  },
  {
   "cell_type": "code",
   "execution_count": 3,
   "metadata": {},
   "outputs": [],
   "source": [
    "def print_file(file):\n",
    "    with open(\"./output/\" + file, 'r') as fin:\n",
    "        print(f\"-------{file}-------\")\n",
    "        print(fin.read())"
   ]
  },
  {
   "cell_type": "code",
   "execution_count": 4,
   "metadata": {},
   "outputs": [
    {
     "name": "stdout",
     "output_type": "stream",
     "text": [
      "-------time-2opt-sol-burma14-------\n",
      "25\n",
      "milisegundo(s).\n",
      "30.87850 0\n",
      "0 1 13 2 3 4 5 11 6 12 7 10 8 9 \n",
      "\n",
      "-------time-2opt-sol-in10-------\n",
      "20\n",
      "milisegundo(s).\n",
      "6303.41552 0\n",
      "0 9 5 2 1 7 8 3 4 6 \n",
      "\n",
      "-------time-2opt-sol-ulysses16-------\n",
      "32\n",
      "milisegundo(s).\n",
      "74.75690 0\n",
      "0 3 1 2 15 12 13 14 4 10 8 9 5 6 11 7 \n",
      "\n",
      "-------time-2opt-sol-ulysses22-------\n",
      "62\n",
      "milisegundo(s).\n",
      "77.77761 0\n",
      "0 16 2 1 3 17 21 7 15 20 19 18 9 8 10 4 5 6 14 13 12 11 \n",
      "\n",
      "-------time-mpi-sol-burma14-------\n",
      "222300\n",
      "milisegundo(s).\n",
      "30.87850 1\n",
      "0 9 8 10 7 12 6 11 5 4 3 2 13 1 \n",
      "\n",
      "-------time-mpi-sol-in10-------\n",
      "22\n",
      "milisegundo(s).\n",
      "6303.41552 1\n",
      "0 9 5 2 1 7 8 3 4 6 \n",
      "\n",
      "-------time-tsp-seq-in10-------\n",
      "34\n",
      "milisegundo(s).\n",
      "6303.41552 1\n",
      "0 9 5 2 1 7 8 3 4 6 \n",
      "\n"
     ]
    }
   ],
   "source": [
    "for f in output:\n",
    "    print_file(f)"
   ]
  },
  {
   "cell_type": "markdown",
   "metadata": {},
   "source": [
    "Dado que o tsp-seq e o mpi-sol encontram a solução ótima e realizam a enumeração exaustiva, enquanto que o 2opt-sol realiza sorteios e tenta verificar o melhor custo, teremos diferenças grandes de desempenho e precisão de resultado.\n",
    "\n",
    "Como pode-se observar com as saídas dos testes, para a entrada in10, todos as soluções encontraram o caminho ótimo, assim validando os algoritmos em MPI. Contudo, para o burma14, podemos verificar a escala da diferença de desempenho. Enquanto o mpi-sol demora 222300 ms, o 2opt-sol demora apenas 20 ms.\n",
    "\n",
    "Enquanto o 2opt-sol encontra soluções não-ótimas em alguns ms para o ulysses16 e ulysses22, o mpi-sol demora tanto que seu custo-benefício acaba sendo ínfimo.\n",
    "\n",
    "Vamos comparar com a solução 2opt em apenas 1 GPU após verificar a diferença dessas soluções."
   ]
  },
  {
   "cell_type": "markdown",
   "metadata": {},
   "source": [
    "##  Testes de Desempenho\n",
    "\n",
    "Aqui estamos preocupados com a diferença de desempenho. O tempo foi medido a partir da biblioteca <chrono> e o compilador mpicxx. Testaremos então o tempo de uma execução e a saída para as duas soluções (2opt e mpi). Para isso, existem alguns testes do TSPLIB já resolvidos que serão utilizados como base aqui. São eles:\n",
    "- in10.txt (N = 10) // Pequeno\n",
    "- burma14.txt (N = 14)   // Médio\n",
    "- ulysses16.txt (N = 16)  // Grande\n",
    "- ulysses22.txt (N = 22)   // Muito Grande\n",
    "\n",
    "Esses testes foram escolhidos pois já representam uma grande diferença de desempenho entre os executáveis. "
   ]
  },
  {
   "cell_type": "code",
   "execution_count": 5,
   "metadata": {},
   "outputs": [],
   "source": [
    "def parse_output_file(file):\n",
    "    with open(\"./output/\" + file, 'r') as fin:\n",
    "        output = fin.read().splitlines()\n",
    "        input_file = file.split(\"-\")[-1]\n",
    "        executable = file.replace(f\"-{input_file}\", \"\")\n",
    "        time = output[0]\n",
    "        ms = output[1]\n",
    "        best_cost = output[2][:-2]\n",
    "        solution = output[3]\n",
    "        return [executable, input_file, time, ms, best_cost, solution]"
   ]
  },
  {
   "cell_type": "code",
   "execution_count": 6,
   "metadata": {},
   "outputs": [],
   "source": [
    "data = []\n",
    "for f in output:\n",
    "    data.append(parse_output_file(f))"
   ]
  },
  {
   "cell_type": "code",
   "execution_count": 7,
   "metadata": {
    "scrolled": true
   },
   "outputs": [
    {
     "data": {
      "text/html": [
       "<div>\n",
       "<style scoped>\n",
       "    .dataframe tbody tr th:only-of-type {\n",
       "        vertical-align: middle;\n",
       "    }\n",
       "\n",
       "    .dataframe tbody tr th {\n",
       "        vertical-align: top;\n",
       "    }\n",
       "\n",
       "    .dataframe thead th {\n",
       "        text-align: right;\n",
       "    }\n",
       "</style>\n",
       "<table border=\"1\" class=\"dataframe\">\n",
       "  <thead>\n",
       "    <tr style=\"text-align: right;\">\n",
       "      <th></th>\n",
       "      <th>Executavel</th>\n",
       "      <th>Entrada</th>\n",
       "      <th>Tempo</th>\n",
       "      <th>ms</th>\n",
       "      <th>Melhor Custo</th>\n",
       "      <th>Solucao</th>\n",
       "    </tr>\n",
       "  </thead>\n",
       "  <tbody>\n",
       "    <tr>\n",
       "      <td>0</td>\n",
       "      <td>time-2opt-sol</td>\n",
       "      <td>in10</td>\n",
       "      <td>20.0</td>\n",
       "      <td>milisegundo(s).</td>\n",
       "      <td>6303.41552</td>\n",
       "      <td>0 9 5 2 1 7 8 3 4 6</td>\n",
       "    </tr>\n",
       "    <tr>\n",
       "      <td>1</td>\n",
       "      <td>time-mpi-sol</td>\n",
       "      <td>in10</td>\n",
       "      <td>22.0</td>\n",
       "      <td>milisegundo(s).</td>\n",
       "      <td>6303.41552</td>\n",
       "      <td>0 9 5 2 1 7 8 3 4 6</td>\n",
       "    </tr>\n",
       "    <tr>\n",
       "      <td>2</td>\n",
       "      <td>time-tsp-seq</td>\n",
       "      <td>in10</td>\n",
       "      <td>34.0</td>\n",
       "      <td>milisegundo(s).</td>\n",
       "      <td>6303.41552</td>\n",
       "      <td>0 9 5 2 1 7 8 3 4 6</td>\n",
       "    </tr>\n",
       "    <tr>\n",
       "      <td>3</td>\n",
       "      <td>time-2opt-sol</td>\n",
       "      <td>burma14</td>\n",
       "      <td>25.0</td>\n",
       "      <td>milisegundo(s).</td>\n",
       "      <td>30.87850</td>\n",
       "      <td>0 1 13 2 3 4 5 11 6 12 7 10 8 9</td>\n",
       "    </tr>\n",
       "    <tr>\n",
       "      <td>4</td>\n",
       "      <td>time-mpi-sol</td>\n",
       "      <td>burma14</td>\n",
       "      <td>222300.0</td>\n",
       "      <td>milisegundo(s).</td>\n",
       "      <td>30.87850</td>\n",
       "      <td>0 9 8 10 7 12 6 11 5 4 3 2 13 1</td>\n",
       "    </tr>\n",
       "    <tr>\n",
       "      <td>5</td>\n",
       "      <td>time-2opt-sol</td>\n",
       "      <td>ulysses16</td>\n",
       "      <td>32.0</td>\n",
       "      <td>milisegundo(s).</td>\n",
       "      <td>74.75690</td>\n",
       "      <td>0 3 1 2 15 12 13 14 4 10 8 9 5 6 11 7</td>\n",
       "    </tr>\n",
       "    <tr>\n",
       "      <td>6</td>\n",
       "      <td>time-2opt-sol</td>\n",
       "      <td>ulysses22</td>\n",
       "      <td>62.0</td>\n",
       "      <td>milisegundo(s).</td>\n",
       "      <td>77.77761</td>\n",
       "      <td>0 16 2 1 3 17 21 7 15 20 19 18 9 8 10 4 5 6 14...</td>\n",
       "    </tr>\n",
       "  </tbody>\n",
       "</table>\n",
       "</div>"
      ],
      "text/plain": [
       "      Executavel    Entrada     Tempo               ms  Melhor Custo  \\\n",
       "0  time-2opt-sol       in10      20.0  milisegundo(s).    6303.41552   \n",
       "1   time-mpi-sol       in10      22.0  milisegundo(s).    6303.41552   \n",
       "2   time-tsp-seq       in10      34.0  milisegundo(s).    6303.41552   \n",
       "3  time-2opt-sol    burma14      25.0  milisegundo(s).      30.87850   \n",
       "4   time-mpi-sol    burma14  222300.0  milisegundo(s).      30.87850   \n",
       "5  time-2opt-sol  ulysses16      32.0  milisegundo(s).      74.75690   \n",
       "6  time-2opt-sol  ulysses22      62.0  milisegundo(s).      77.77761   \n",
       "\n",
       "                                             Solucao  \n",
       "0                               0 9 5 2 1 7 8 3 4 6   \n",
       "1                               0 9 5 2 1 7 8 3 4 6   \n",
       "2                               0 9 5 2 1 7 8 3 4 6   \n",
       "3                   0 1 13 2 3 4 5 11 6 12 7 10 8 9   \n",
       "4                   0 9 8 10 7 12 6 11 5 4 3 2 13 1   \n",
       "5             0 3 1 2 15 12 13 14 4 10 8 9 5 6 11 7   \n",
       "6  0 16 2 1 3 17 21 7 15 20 19 18 9 8 10 4 5 6 14...  "
      ]
     },
     "execution_count": 7,
     "metadata": {},
     "output_type": "execute_result"
    }
   ],
   "source": [
    "df = pd.DataFrame(data, dtype=np.float64, columns=[\"Executavel\", \"Entrada\", \"Tempo\", \"ms\",\n",
    "                                                  \"Melhor Custo\", \"Solucao\"])\n",
    "s = df[\"Entrada\"].str.len().sort_values().index\n",
    "df = df.reindex(s)\n",
    "df = df.reset_index(drop=True)\n",
    "df"
   ]
  },
  {
   "cell_type": "markdown",
   "metadata": {},
   "source": [
    "Verificando o dataframe, podemos observas que o tempo do mpi com enumeração exaustiva é muito inferior. E isso piora ainda mais com a adição de poucos pontos."
   ]
  },
  {
   "cell_type": "code",
   "execution_count": 8,
   "metadata": {},
   "outputs": [
    {
     "data": {
      "image/png": "[encoded data removed]",
      "text/plain": [
       "<Figure size 432x288 with 1 Axes>"
      ]
     },
     "metadata": {
      "needs_background": "light"
     },
     "output_type": "display_data"
    }
   ],
   "source": [
    "groups = df.groupby(\"Executavel\")\n",
    "\n",
    "fig, ax = plt.subplots()\n",
    "for name, group in groups:\n",
    "    ax.plot(group[\"Entrada\"], group[\"Tempo\"], marker='o', linestyle='-', ms=5, label=group[\"Executavel\"])\n",
    "plt.title('Tempos para executáveis diferentes')\n",
    "plt.ylabel('Tempo (ms)')\n",
    "plt.xlabel('Entrada Utilizada')\n",
    "plt.legend(loc='upper left', bbox_to_anchor=(1, 1))\n",
    "plt.show()"
   ]
  },
  {
   "cell_type": "markdown",
   "metadata": {},
   "source": [
    "Como podemos verificar no gráficos acima, o algoritmo 2opt-sol tem um desempenho quase constante, que não piora tanto quando aumentam a quantidade de pontos. Contudo, isso afeta diretamente a qualidade da solução.\n",
    "\n",
    "Por sua vez, o tempo mpi-sol aumenta DRASTICAMENTE de 10 pontos para 14, porém ele continua encontrando a solução ótima. Isso mostra que para poucos pontos a solução de enumeração exaustiva ingênua é aceitável, porém para mais pontos acaba sendo inviável.\n",
    "\n",
    "Ao utilizar otimizações como o Branch and Bound, o desempenho do algoritmo será muito melhor, porém ainda não será tão boa quanto a solução em GPU como visto no [projeto 3](https://github.com/filipefborba/supercomp/blob/master/projeto-03/Filipe%20Borba%20-%20Projeto%203.ipynb).\n",
    "\n",
    "A melhor opção dados todos os casos estudados seria utilizar GPU em conjunto com o MPI. Isso porque o desempenho da GPU é muito maior que soluções CPU. Nele, colocamos entradas de centenas de pontos e a qualidade do resultado é bastante aceitável, mesmo para o algoritmo 2opt."
   ]
  }
 ],
 "metadata": {
  "kernelspec": {
   "display_name": "Python 3",
   "language": "python",
   "name": "python3"
  },
  "language_info": {
   "codemirror_mode": {
    "name": "ipython",
    "version": 3
   },
   "file_extension": ".py",
   "mimetype": "text/x-python",
   "name": "python",
   "nbconvert_exporter": "python",
   "pygments_lexer": "ipython3",
   "version": "3.6.8"
  }
 },
 "nbformat": 4,
 "nbformat_minor": 2
}
